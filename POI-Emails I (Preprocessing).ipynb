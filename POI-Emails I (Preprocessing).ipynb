{
 "cells": [
  {
   "cell_type": "markdown",
   "metadata": {},
   "source": [
    "# Person of Interest Identifier 2.0 Part I\n",
    "### ~Abhishek Singh"
   ]
  },
  {
   "cell_type": "markdown",
   "metadata": {},
   "source": [
    "This project is based on the [Enron scandal](https://en.wikipedia.org/wiki/Enron_scandal) of 2001, the data used here is the emails data of enron employees which was made public and can be found [here](https://www.cs.cmu.edu/~./enron/enron_mail_20150507.tar.gz). \n",
    "Here we identify people from the numerous enron employees which can be considered as 'person of interest (poi)' i.e. who may have a hand in the scandal based on their email conversations. The data has handpicked people classified as poi which were convicted in reality. We use a supervised learning approach with text mining techniques to build our poi identifier.\n",
    "This is a follow-up analysis (version 2) for my earlier project where I used Enron's financial data to identify person of interests."
   ]
  },
  {
   "cell_type": "code",
   "execution_count": 1,
   "metadata": {},
   "outputs": [],
   "source": [
    "#Importing dependencies\n",
    "import warnings\n",
    "warnings.filterwarnings('ignore')\n",
    "import numpy as np\n",
    "import pandas as pd\n",
    "import matplotlib.pyplot as plt\n",
    "import seaborn as sns\n",
    "import pickle as pkl\n",
    "import re\n",
    "import json\n",
    "from nltk.stem import PorterStemmer\n",
    "from nltk.tokenize import word_tokenize\n",
    "from nltk.corpus import stopwords"
   ]
  },
  {
   "cell_type": "markdown",
   "metadata": {},
   "source": [
    "### Preparing the data"
   ]
  },
  {
   "cell_type": "code",
   "execution_count": 2,
   "metadata": {},
   "outputs": [
    {
     "data": {
      "text/plain": [
       "'(y) Lay, Kenneth\\n(y) Skilling, Jeffrey\\n(n) Howard, Kevin\\n(n) Krautz, Michael\\n(n) Yeager, Scott\\n(n) Hirko, Joseph\\n(n) Shelby, Rex\\n(n) Bermingham, David\\n(n) Darby, Giles\\n(n) Mulgrew, Gary\\n(n) Bayley, Daniel\\n(n) Brown, James\\n(n) Furst, Robert\\n(n) Fuhs, William\\n(n) Causey, Richard\\n(n) Calger, Christopher\\n(n) DeSpain, Timothy\\n(n) Hannon, Kevin\\n(n) Koenig, Mark\\n(y) Forney, John\\n(n) Rice, Kenneth\\n(n) Rieker, Paula\\n(n) Fastow, Lea\\n(n) Fastow, Andrew\\n(y) Delainey, David\\n(n) Glisan, Ben\\n(n) Richter, Jeffrey\\n(n) Lawyer, Larry\\n(n) Belden, Timothy\\n(n) Kopper, Michael\\n(n) Duncan, David\\n(n) Bowen, Raymond\\n(n) Colwell, Wesley\\n(n) Boyle, Dan\\n(n) Loehr, Christopher\\n'"
      ]
     },
     "execution_count": 2,
     "metadata": {},
     "output_type": "execute_result"
    }
   ],
   "source": [
    "#Here's the text file with list of POI names\n",
    "poi_data = open('poi_names.txt','r')\n",
    "poi = poi_data.read()\n",
    "poi_data.close()\n",
    "poi"
   ]
  },
  {
   "cell_type": "code",
   "execution_count": 3,
   "metadata": {},
   "outputs": [
    {
     "data": {
      "text/plain": [
       "['LAY KENNETH',\n",
       " 'SKILLING JEFFREY',\n",
       " 'HOWARD KEVIN',\n",
       " 'KRAUTZ MICHAEL',\n",
       " 'YEAGER SCOTT']"
      ]
     },
     "execution_count": 3,
     "metadata": {},
     "output_type": "execute_result"
    }
   ],
   "source": [
    "#Here we save it in a python list format to be used later\n",
    "poi = poi.split('\\n')[:-1] #remove blank space\n",
    "poi = list(map(lambda x: x.split(')')[1].strip().upper().replace(',',''),poi)) #Extract names from text file\n",
    "poi[:5]"
   ]
  },
  {
   "cell_type": "code",
   "execution_count": 4,
   "metadata": {},
   "outputs": [
    {
     "data": {
      "text/plain": [
       "'\"kenneth_lay@enron.net\",    \\n            \"kenneth_lay@enron.com\",\\n            \"klay.enron@enron.com\",\\n            \"kenneth.lay@enron.com\", \\n            \"klay@enron.com\",\\n            \"layk@enron.com\",\\n            \"chairman.ken@enron.com\",\\n            \"jeffreyskilling@yahoo.com\",\\n            \"jeff_skilling@enron.com\",\\n            \"jskilling@enron.com\",\\n            \"effrey.skilling@enron.com\",\\n            \"skilling@enron.com\",\\n            \"jeffrey.k.skilling@enron.com\",\\n            \"jeff.skilling@enron.com\",\\n            \"kevin_a_howard.enronxgate.enron@enron.net\",\\n            \"kevin.howard@enron.com\",\\n            \"kevin.howard@enron.net\",\\n            \"kevin.howard@gcm.com\",\\n            \"michael.krautz@enron.com\"\\n            \"scott.yeager@enron.com\",\\n            \"syeager@fyi-net.com\",\\n            \"scott_yeager@enron.net\",\\n            \"syeager@flash.net\",\\n            \"joe\\'.\\'hirko@enron.com\", \\n            \"joe.hirko@enron.com\", \\n            \"rex.shelby@enron.com\", \\n            \"rex.shelby@en'"
      ]
     },
     "execution_count": 4,
     "metadata": {},
     "output_type": "execute_result"
    }
   ],
   "source": [
    "#Here's the text file with POI email IDs\n",
    "email_poi_data = open('poi_email_ids.txt','r')\n",
    "poi_emails = email_poi_data.read()\n",
    "email_poi_data.close()\n",
    "poi_emails[:1000]"
   ]
  },
  {
   "cell_type": "code",
   "execution_count": 5,
   "metadata": {},
   "outputs": [
    {
     "data": {
      "text/plain": [
       "['kenneth_lay@enron.net',\n",
       " 'kenneth_lay@enron.com',\n",
       " 'klay.enron@enron.com',\n",
       " 'kenneth.lay@enron.com',\n",
       " 'klay@enron.com']"
      ]
     },
     "execution_count": 5,
     "metadata": {},
     "output_type": "execute_result"
    }
   ],
   "source": [
    "#We save it in a python list format\n",
    "poi_emails = poi_emails.split('\\n') #remove blank space\n",
    "#next we remove non-alphanumerics & extract email ids\n",
    "poi_emails = list(map(lambda x: x.strip().replace('\"','').replace(',',''),poi_emails)) \n",
    "poi_emails[:5]"
   ]
  },
  {
   "cell_type": "code",
   "execution_count": 6,
   "metadata": {},
   "outputs": [
    {
     "data": {
      "text/html": [
       "<div>\n",
       "<style scoped>\n",
       "    .dataframe tbody tr th:only-of-type {\n",
       "        vertical-align: middle;\n",
       "    }\n",
       "\n",
       "    .dataframe tbody tr th {\n",
       "        vertical-align: top;\n",
       "    }\n",
       "\n",
       "    .dataframe thead th {\n",
       "        text-align: right;\n",
       "    }\n",
       "</style>\n",
       "<table border=\"1\" class=\"dataframe\">\n",
       "  <thead>\n",
       "    <tr style=\"text-align: right;\">\n",
       "      <th></th>\n",
       "      <th>file</th>\n",
       "      <th>message</th>\n",
       "    </tr>\n",
       "  </thead>\n",
       "  <tbody>\n",
       "    <tr>\n",
       "      <td>0</td>\n",
       "      <td>allen-p/_sent_mail/1.</td>\n",
       "      <td>Message-ID: &lt;18782981.1075855378110.JavaMail.e...</td>\n",
       "    </tr>\n",
       "    <tr>\n",
       "      <td>1</td>\n",
       "      <td>allen-p/_sent_mail/10.</td>\n",
       "      <td>Message-ID: &lt;15464986.1075855378456.JavaMail.e...</td>\n",
       "    </tr>\n",
       "    <tr>\n",
       "      <td>2</td>\n",
       "      <td>allen-p/_sent_mail/100.</td>\n",
       "      <td>Message-ID: &lt;24216240.1075855687451.JavaMail.e...</td>\n",
       "    </tr>\n",
       "    <tr>\n",
       "      <td>3</td>\n",
       "      <td>allen-p/_sent_mail/1000.</td>\n",
       "      <td>Message-ID: &lt;13505866.1075863688222.JavaMail.e...</td>\n",
       "    </tr>\n",
       "    <tr>\n",
       "      <td>4</td>\n",
       "      <td>allen-p/_sent_mail/1001.</td>\n",
       "      <td>Message-ID: &lt;30922949.1075863688243.JavaMail.e...</td>\n",
       "    </tr>\n",
       "  </tbody>\n",
       "</table>\n",
       "</div>"
      ],
      "text/plain": [
       "                       file                                            message\n",
       "0     allen-p/_sent_mail/1.  Message-ID: <18782981.1075855378110.JavaMail.e...\n",
       "1    allen-p/_sent_mail/10.  Message-ID: <15464986.1075855378456.JavaMail.e...\n",
       "2   allen-p/_sent_mail/100.  Message-ID: <24216240.1075855687451.JavaMail.e...\n",
       "3  allen-p/_sent_mail/1000.  Message-ID: <13505866.1075863688222.JavaMail.e...\n",
       "4  allen-p/_sent_mail/1001.  Message-ID: <30922949.1075863688243.JavaMail.e..."
      ]
     },
     "execution_count": 6,
     "metadata": {},
     "output_type": "execute_result"
    }
   ],
   "source": [
    "#Enron email data\n",
    "emails_df = pd.read_csv('emails.csv')\n",
    "emails_df.head()"
   ]
  },
  {
   "cell_type": "code",
   "execution_count": 7,
   "metadata": {},
   "outputs": [
    {
     "name": "stdout",
     "output_type": "stream",
     "text": [
      "(517401, 2)\n"
     ]
    },
    {
     "data": {
      "text/html": [
       "<div>\n",
       "<style scoped>\n",
       "    .dataframe tbody tr th:only-of-type {\n",
       "        vertical-align: middle;\n",
       "    }\n",
       "\n",
       "    .dataframe tbody tr th {\n",
       "        vertical-align: top;\n",
       "    }\n",
       "\n",
       "    .dataframe thead th {\n",
       "        text-align: right;\n",
       "    }\n",
       "</style>\n",
       "<table border=\"1\" class=\"dataframe\">\n",
       "  <thead>\n",
       "    <tr style=\"text-align: right;\">\n",
       "      <th></th>\n",
       "      <th>file</th>\n",
       "      <th>message</th>\n",
       "    </tr>\n",
       "  </thead>\n",
       "  <tbody>\n",
       "    <tr>\n",
       "      <td>0</td>\n",
       "      <td>allen-p/_sent_mail/1.</td>\n",
       "      <td>Message-ID: &lt;18782981.1075855378110.JavaMail.e...</td>\n",
       "    </tr>\n",
       "    <tr>\n",
       "      <td>1</td>\n",
       "      <td>allen-p/_sent_mail/10.</td>\n",
       "      <td>Message-ID: &lt;15464986.1075855378456.JavaMail.e...</td>\n",
       "    </tr>\n",
       "    <tr>\n",
       "      <td>2</td>\n",
       "      <td>allen-p/_sent_mail/100.</td>\n",
       "      <td>Message-ID: &lt;24216240.1075855687451.JavaMail.e...</td>\n",
       "    </tr>\n",
       "    <tr>\n",
       "      <td>3</td>\n",
       "      <td>allen-p/_sent_mail/1000.</td>\n",
       "      <td>Message-ID: &lt;13505866.1075863688222.JavaMail.e...</td>\n",
       "    </tr>\n",
       "    <tr>\n",
       "      <td>4</td>\n",
       "      <td>allen-p/_sent_mail/1001.</td>\n",
       "      <td>Message-ID: &lt;30922949.1075863688243.JavaMail.e...</td>\n",
       "    </tr>\n",
       "  </tbody>\n",
       "</table>\n",
       "</div>"
      ],
      "text/plain": [
       "                       file                                            message\n",
       "0     allen-p/_sent_mail/1.  Message-ID: <18782981.1075855378110.JavaMail.e...\n",
       "1    allen-p/_sent_mail/10.  Message-ID: <15464986.1075855378456.JavaMail.e...\n",
       "2   allen-p/_sent_mail/100.  Message-ID: <24216240.1075855687451.JavaMail.e...\n",
       "3  allen-p/_sent_mail/1000.  Message-ID: <13505866.1075863688222.JavaMail.e...\n",
       "4  allen-p/_sent_mail/1001.  Message-ID: <30922949.1075863688243.JavaMail.e..."
      ]
     },
     "execution_count": 7,
     "metadata": {},
     "output_type": "execute_result"
    }
   ],
   "source": [
    "#Let's have a first look at our data\n",
    "print(emails_df.shape)\n",
    "emails_df.head()"
   ]
  },
  {
   "cell_type": "markdown",
   "metadata": {},
   "source": [
    "### EDA and Cleaning"
   ]
  },
  {
   "cell_type": "markdown",
   "metadata": {},
   "source": [
    "As you may have noticied from the first look our data has raw email conversations. We cannot use these as they are to build our classifier. Hence next we extract features from these raw email files."
   ]
  },
  {
   "cell_type": "code",
   "execution_count": 8,
   "metadata": {},
   "outputs": [
    {
     "name": "stdout",
     "output_type": "stream",
     "text": [
      "Message-ID: <18782981.1075855378110.JavaMail.evans@thyme>\n",
      "Date: Mon, 14 May 2001 16:39:00 -0700 (PDT)\n",
      "From: phillip.allen@enron.com\n",
      "To: tim.belden@enron.com\n",
      "Subject: \n",
      "Mime-Version: 1.0\n",
      "Content-Type: text/plain; charset=us-ascii\n",
      "Content-Transfer-Encoding: 7bit\n",
      "X-From: Phillip K Allen\n",
      "X-To: Tim Belden <Tim Belden/Enron@EnronXGate>\n",
      "X-cc: \n",
      "X-bcc: \n",
      "X-Folder: \\Phillip_Allen_Jan2002_1\\Allen, Phillip K.\\'Sent Mail\n",
      "X-Origin: Allen-P\n",
      "X-FileName: pallen (Non-Privileged).pst\n",
      "\n",
      "Here is our forecast\n",
      "\n",
      " \n"
     ]
    },
    {
     "data": {
      "text/plain": [
       "['Message-ID: <18782981.1075855378110.JavaMail.evans@thyme>',\n",
       " 'Date: Mon, 14 May 2001 16:39:00 -0700 (PDT)',\n",
       " 'From: phillip.allen@enron.com',\n",
       " 'To: tim.belden@enron.com',\n",
       " 'Subject: ',\n",
       " 'Mime-Version: 1.0',\n",
       " 'Content-Type: text/plain; charset=us-ascii',\n",
       " 'Content-Transfer-Encoding: 7bit',\n",
       " 'X-From: Phillip K Allen',\n",
       " 'X-To: Tim Belden <Tim Belden/Enron@EnronXGate>',\n",
       " 'X-cc: ',\n",
       " 'X-bcc: ',\n",
       " \"X-Folder: \\\\Phillip_Allen_Jan2002_1\\\\Allen, Phillip K.\\\\'Sent Mail\",\n",
       " 'X-Origin: Allen-P',\n",
       " 'X-FileName: pallen (Non-Privileged).pst',\n",
       " '',\n",
       " 'Here is our forecast',\n",
       " '',\n",
       " ' ']"
      ]
     },
     "execution_count": 8,
     "metadata": {},
     "output_type": "execute_result"
    }
   ],
   "source": [
    "print(emails_df.iloc[0,1]) #raw email\n",
    "emails_df.iloc[0,1].split('\\n') #list with features"
   ]
  },
  {
   "cell_type": "code",
   "execution_count": 9,
   "metadata": {},
   "outputs": [],
   "source": [
    "#Extracting date,sender,receiver and email text from raw emails\n",
    "months,years,senders,receivers,emails = [],[],[],[],[]\n",
    "def extract_features(row):\n",
    "    message = row['message'].split('\\n') #converts message into a list\n",
    "    try:\n",
    "        email = ''.join(message[15:]) #for every message, the actual email starts from here\n",
    "        if \"Forwarded\" not in email: #do not include forawrded emails to avoid duplication\n",
    "            date = re.search('Date: .*, [0-9]+ (.*) [0-9].*',message[1]).group(1).split() #extract date using regex\n",
    "            row['Month'] = date[0]\n",
    "            row['Year'] = int(date[1])\n",
    "            row['Sender'] = message[2].split()[1]\n",
    "            row['Receiver'] = message[3].split()[1]\n",
    "            row['Email'] = email\n",
    "            return row\n",
    "    except:\n",
    "        pass"
   ]
  },
  {
   "cell_type": "code",
   "execution_count": 10,
   "metadata": {},
   "outputs": [],
   "source": [
    "emails_df['Month']=''\n",
    "emails_df['Year']=0\n",
    "emails_df['Sender']=''\n",
    "emails_df['Receiver']=''\n",
    "emails_df['Email']=''\n",
    "\n",
    "#Apply our function to the entire data\n",
    "emails_df = emails_df.apply(extract_features,axis=1)\n",
    "emails_df.dropna(inplace=True)"
   ]
  },
  {
   "cell_type": "code",
   "execution_count": 11,
   "metadata": {},
   "outputs": [],
   "source": [
    "#We also create additional features\n",
    "#first based on the folder which email belongs to\n",
    "emails_df['Folder'] = emails_df['file'].apply(lambda x: x.split('/')[1])\n",
    "#next length of the email in characters\n",
    "emails_df['Length'] = emails_df['Email'].apply(lambda x: len(str(x)))"
   ]
  },
  {
   "cell_type": "code",
   "execution_count": 12,
   "metadata": {},
   "outputs": [],
   "source": [
    "#Creating the target variable\n",
    "emails_df['POI']=0\n",
    "emails_df.loc[emails_df['Sender'].isin(poi_emails),'POI'] = 1"
   ]
  },
  {
   "cell_type": "markdown",
   "metadata": {},
   "source": [
    "In our analysis, our aim is to identify POI conversations to identify fraudulent activities. To do so we use email conversations and try to classify emails that have been sent by a POI to build a classifier which can detect fraudulent activities given email conversations. Thus, our label is one for all emails that have been initiated by POIs."
   ]
  },
  {
   "cell_type": "code",
   "execution_count": 13,
   "metadata": {},
   "outputs": [
    {
     "data": {
      "text/html": [
       "<div>\n",
       "<style scoped>\n",
       "    .dataframe tbody tr th:only-of-type {\n",
       "        vertical-align: middle;\n",
       "    }\n",
       "\n",
       "    .dataframe tbody tr th {\n",
       "        vertical-align: top;\n",
       "    }\n",
       "\n",
       "    .dataframe thead th {\n",
       "        text-align: right;\n",
       "    }\n",
       "</style>\n",
       "<table border=\"1\" class=\"dataframe\">\n",
       "  <thead>\n",
       "    <tr style=\"text-align: right;\">\n",
       "      <th></th>\n",
       "      <th>file</th>\n",
       "      <th>message</th>\n",
       "      <th>Month</th>\n",
       "      <th>Year</th>\n",
       "      <th>Sender</th>\n",
       "      <th>Receiver</th>\n",
       "      <th>Email</th>\n",
       "      <th>Folder</th>\n",
       "      <th>Length</th>\n",
       "      <th>POI</th>\n",
       "    </tr>\n",
       "  </thead>\n",
       "  <tbody>\n",
       "    <tr>\n",
       "      <td>0</td>\n",
       "      <td>allen-p/_sent_mail/1.</td>\n",
       "      <td>Message-ID: &lt;18782981.1075855378110.JavaMail.e...</td>\n",
       "      <td>May</td>\n",
       "      <td>2001.0</td>\n",
       "      <td>phillip.allen@enron.com</td>\n",
       "      <td>tim.belden@enron.com</td>\n",
       "      <td>Here is our forecast</td>\n",
       "      <td>_sent_mail</td>\n",
       "      <td>21</td>\n",
       "      <td>0</td>\n",
       "    </tr>\n",
       "    <tr>\n",
       "      <td>1</td>\n",
       "      <td>allen-p/_sent_mail/10.</td>\n",
       "      <td>Message-ID: &lt;15464986.1075855378456.JavaMail.e...</td>\n",
       "      <td>May</td>\n",
       "      <td>2001.0</td>\n",
       "      <td>phillip.allen@enron.com</td>\n",
       "      <td>john.lavorato@enron.com</td>\n",
       "      <td>Traveling to have a business meeting takes the...</td>\n",
       "      <td>_sent_mail</td>\n",
       "      <td>781</td>\n",
       "      <td>0</td>\n",
       "    </tr>\n",
       "    <tr>\n",
       "      <td>2</td>\n",
       "      <td>allen-p/_sent_mail/100.</td>\n",
       "      <td>Message-ID: &lt;24216240.1075855687451.JavaMail.e...</td>\n",
       "      <td>Oct</td>\n",
       "      <td>2000.0</td>\n",
       "      <td>phillip.allen@enron.com</td>\n",
       "      <td>leah.arsdall@enron.com</td>\n",
       "      <td>test successful.  way to go!!!</td>\n",
       "      <td>_sent_mail</td>\n",
       "      <td>30</td>\n",
       "      <td>0</td>\n",
       "    </tr>\n",
       "    <tr>\n",
       "      <td>3</td>\n",
       "      <td>allen-p/_sent_mail/1000.</td>\n",
       "      <td>Message-ID: &lt;13505866.1075863688222.JavaMail.e...</td>\n",
       "      <td>Oct</td>\n",
       "      <td>2000.0</td>\n",
       "      <td>phillip.allen@enron.com</td>\n",
       "      <td>randall.gay@enron.com</td>\n",
       "      <td>Randy, Can you send me a schedule of the salar...</td>\n",
       "      <td>_sent_mail</td>\n",
       "      <td>181</td>\n",
       "      <td>0</td>\n",
       "    </tr>\n",
       "    <tr>\n",
       "      <td>4</td>\n",
       "      <td>allen-p/_sent_mail/1001.</td>\n",
       "      <td>Message-ID: &lt;30922949.1075863688243.JavaMail.e...</td>\n",
       "      <td>Aug</td>\n",
       "      <td>2000.0</td>\n",
       "      <td>phillip.allen@enron.com</td>\n",
       "      <td>greg.piper@enron.com</td>\n",
       "      <td>Let's shoot for Tuesday at 11:45.</td>\n",
       "      <td>_sent_mail</td>\n",
       "      <td>35</td>\n",
       "      <td>0</td>\n",
       "    </tr>\n",
       "  </tbody>\n",
       "</table>\n",
       "</div>"
      ],
      "text/plain": [
       "                       file  \\\n",
       "0     allen-p/_sent_mail/1.   \n",
       "1    allen-p/_sent_mail/10.   \n",
       "2   allen-p/_sent_mail/100.   \n",
       "3  allen-p/_sent_mail/1000.   \n",
       "4  allen-p/_sent_mail/1001.   \n",
       "\n",
       "                                             message Month    Year  \\\n",
       "0  Message-ID: <18782981.1075855378110.JavaMail.e...   May  2001.0   \n",
       "1  Message-ID: <15464986.1075855378456.JavaMail.e...   May  2001.0   \n",
       "2  Message-ID: <24216240.1075855687451.JavaMail.e...   Oct  2000.0   \n",
       "3  Message-ID: <13505866.1075863688222.JavaMail.e...   Oct  2000.0   \n",
       "4  Message-ID: <30922949.1075863688243.JavaMail.e...   Aug  2000.0   \n",
       "\n",
       "                    Sender                 Receiver  \\\n",
       "0  phillip.allen@enron.com     tim.belden@enron.com   \n",
       "1  phillip.allen@enron.com  john.lavorato@enron.com   \n",
       "2  phillip.allen@enron.com   leah.arsdall@enron.com   \n",
       "3  phillip.allen@enron.com    randall.gay@enron.com   \n",
       "4  phillip.allen@enron.com     greg.piper@enron.com   \n",
       "\n",
       "                                               Email      Folder  Length  POI  \n",
       "0                              Here is our forecast   _sent_mail      21    0  \n",
       "1  Traveling to have a business meeting takes the...  _sent_mail     781    0  \n",
       "2                     test successful.  way to go!!!  _sent_mail      30    0  \n",
       "3  Randy, Can you send me a schedule of the salar...  _sent_mail     181    0  \n",
       "4                Let's shoot for Tuesday at 11:45.    _sent_mail      35    0  "
      ]
     },
     "execution_count": 13,
     "metadata": {},
     "output_type": "execute_result"
    }
   ],
   "source": [
    "#Let's look at our data now\n",
    "emails_df.head()"
   ]
  },
  {
   "cell_type": "markdown",
   "metadata": {},
   "source": [
    "Now that we have our data, let's investigate its integrity"
   ]
  },
  {
   "cell_type": "code",
   "execution_count": 14,
   "metadata": {},
   "outputs": [
    {
     "data": {
      "text/plain": [
       "[2001.0,\n",
       " 2000.0,\n",
       " 1999.0,\n",
       " 1979.0,\n",
       " 2002.0,\n",
       " 1.0,\n",
       " 2004.0,\n",
       " 2.0,\n",
       " 2020.0,\n",
       " 1998.0,\n",
       " 2012.0,\n",
       " 2007.0,\n",
       " 2005.0,\n",
       " 1997.0,\n",
       " 1986.0,\n",
       " 2024.0,\n",
       " 2044.0,\n",
       " 2043.0]"
      ]
     },
     "execution_count": 14,
     "metadata": {},
     "output_type": "execute_result"
    }
   ],
   "source": [
    "#Lets look at different years in our data\n",
    "list(emails_df['Year'].unique())"
   ]
  },
  {
   "cell_type": "code",
   "execution_count": 15,
   "metadata": {},
   "outputs": [
    {
     "data": {
      "text/plain": [
       "8110     Date: Wed, 21 Dec 0001 22:31:43 -0800 (PST)\n",
       "8130     Date: Sat, 24 Dec 0001 22:26:44 -0800 (PST)\n",
       "32825     Date: Sat, 6 Aug 0001 00:06:06 -0800 (PST)\n",
       "32843    Date: Sat, 13 Aug 0001 00:11:21 -0800 (PST)\n",
       "32908    Date: Sun, 28 Aug 0001 00:08:57 -0800 (PST)\n",
       "dtype: object"
      ]
     },
     "execution_count": 15,
     "metadata": {},
     "output_type": "execute_result"
    }
   ],
   "source": [
    "#We notice some irregularities with 1 and 2\n",
    "emails_df[emails_df['Year'].isin([1.0,2.0])].apply(lambda x: x['message'].split('\\n')[1],axis=1).head()"
   ]
  },
  {
   "cell_type": "markdown",
   "metadata": {},
   "source": [
    "After looking at the corresponding emails it looks like they have '2' missing in the thousands place, let's fix this"
   ]
  },
  {
   "cell_type": "code",
   "execution_count": 16,
   "metadata": {},
   "outputs": [],
   "source": [
    "emails_df.loc[emails_df['Year']=='0001','Year'] = 2001.0\n",
    "emails_df.loc[emails_df['Year']=='0002','Year'] = 2002.0"
   ]
  },
  {
   "cell_type": "code",
   "execution_count": 17,
   "metadata": {
    "scrolled": true
   },
   "outputs": [
    {
     "name": "stdout",
     "output_type": "stream",
     "text": [
      "          Year                Sender                 Receiver  \\\n",
      "508375  2024.0   pse6yl706@aloha.net                   (None)   \n",
      "517039  2044.0  cramer@cadvision.com  john.zufferli@enron.com   \n",
      "517040  2044.0  cramer@cadvision.com  john.zufferli@enron.com   \n",
      "517042  2044.0  cramer@cadvision.com  john.zufferli@enron.com   \n",
      "517045  2043.0  cramer@cadvision.com  linsider.jed@enron.com,   \n",
      "\n",
      "                                                    Email         Folder  \\\n",
      "508375  <html><head><title>Untitled Document</title><m...  deleted_items   \n",
      "517039  Howdy, bom went out 35 at 35.5 Feb traded 32.7...          inbox   \n",
      "517040  BOM  5th to 31st traded 34, 33.5 , 33.5 and  3...          inbox   \n",
      "517042  feb dec trades 37.5 feb dec LL went out 20 at ...          inbox   \n",
      "517045  X-cc: X-bcc: X-Folder: \\ExMerge - Zufferli, Jo...          inbox   \n",
      "\n",
      "        Length  \n",
      "508375    8454  \n",
      "517039     215  \n",
      "517040     148  \n",
      "517042     210  \n",
      "517045     147  \n",
      "False False\n"
     ]
    }
   ],
   "source": [
    "#We also notice some emails being from way ahead in the future let's investigate these\n",
    "print(emails_df[emails_df['Year'].isin([2024.0,2044.0,2043.0])].iloc[:,3:-1])\n",
    "#Looks like these have been sent by 2 individuals, let's check if these are POI\n",
    "print('cramer@cadvision.com' in poi_emails,'pse6yl706@aloha.net' in poi_emails)\n",
    "emails_df = emails_df.loc[~emails_df['Year'].isin([2024.0,2044.0,2043.0]),:] #Since they aren't we disregard these"
   ]
  },
  {
   "cell_type": "code",
   "execution_count": 18,
   "metadata": {},
   "outputs": [
    {
     "name": "stdout",
     "output_type": "stream",
     "text": [
      "19929\n",
      "32\n",
      "45\n",
      "7802\n"
     ]
    }
   ],
   "source": [
    "#Let's look at the number of different individuals in our data\n",
    "print(len(set(emails_df['Sender'].unique()))) #more than 19k\n",
    "print(len(set(emails_df['Sender'].unique()).intersection(set(poi_emails)))) \n",
    "print(len(set(emails_df['Receiver'].unique()).intersection(set(poi_emails))))\n",
    "print(len(set(emails_df['Receiver'].unique()).intersection(set(emails_df['Sender'].unique()))))"
   ]
  },
  {
   "cell_type": "code",
   "execution_count": 19,
   "metadata": {},
   "outputs": [],
   "source": [
    "#Remove major texts other than the message itself\n",
    "sum(emails_df['Email'].str.contains('-----Original Message-----'))\n",
    "\n",
    "#Here we remove the section which doesn't contribute to the message\n",
    "emails_df.loc[emails_df['Email'].str.contains('-----Original Message-----'),'Email'] = \\\n",
    "emails_df.loc[emails_df['Email'].str.contains('-----Original Message-----'),'Email'].\\\n",
    "apply(lambda x: x.split('-----Original Message-----')[0])"
   ]
  },
  {
   "cell_type": "code",
   "execution_count": 20,
   "metadata": {},
   "outputs": [],
   "source": [
    "#To further restrict the scope we only consider employee emails\n",
    "#extracting only employee email IDs from all unique IDs that ends with '@enrom.com' \n",
    "employee_emails = list(filter(None,list(map(lambda x: x if ('@' in x) and (x.split('@')[1]=='enron.com') else None,\\\n",
    "                                           list(emails_df['Sender'].unique())))))\n",
    "#only keep emails sent by enron employees\n",
    "emails_df = emails_df.loc[(emails_df['Sender'].isin(employee_emails)) & (emails_df['Receiver'].isin(employee_emails)),:]"
   ]
  },
  {
   "cell_type": "code",
   "execution_count": 21,
   "metadata": {},
   "outputs": [],
   "source": [
    "#We further only consider emails from and beyond the year 1999\n",
    "emails_df = emails_df.loc[~emails_df['Year'].isin([1979.,1998.]),:]\n",
    "emails_df.dropna(inplace=True)"
   ]
  },
  {
   "cell_type": "code",
   "execution_count": 22,
   "metadata": {},
   "outputs": [
    {
     "data": {
      "text/plain": [
       "60297"
      ]
     },
     "execution_count": 22,
     "metadata": {},
     "output_type": "execute_result"
    }
   ],
   "source": [
    "#Let's check if there are any duplicates present\n",
    "sum(emails_df['Email'].duplicated()) #59909"
   ]
  },
  {
   "cell_type": "markdown",
   "metadata": {},
   "source": [
    "We can simple drop these duplicates, however the choice about which version of the email to choose will be governed by which amongst the duplicates were sent first. To consider this temporal aspect we sort our data based on date."
   ]
  },
  {
   "cell_type": "code",
   "execution_count": 23,
   "metadata": {},
   "outputs": [],
   "source": [
    "#Extracting the complete date\n",
    "emails_df['Date'] = emails_df['message']\\\n",
    "                    .apply(lambda x: re.search('Date: .*, ([0-9]+ .* [0-9]+:[0-9]+:[0-9]+) .*',x.split('\\n')[1]).group(1))\n",
    "emails_df['Date'] = emails_df['Date'].apply(lambda x: x.replace('0001','2001').replace('0002','2002'))\n",
    "\n",
    "#Datetime object\n",
    "emails_df['Date'] = pd.to_datetime(emails_df['Date'],format=\"%d %b %Y %H:%M:%S\")\n",
    "emails_df.sort_values(by='Date',inplace=True) #sort based on date"
   ]
  },
  {
   "cell_type": "code",
   "execution_count": 24,
   "metadata": {},
   "outputs": [],
   "source": [
    "#Now we can remove duplicates and keep the one which we encounter first\n",
    "emails_df.drop_duplicates(subset ='Email',keep = 'first',inplace=True) "
   ]
  },
  {
   "cell_type": "code",
   "execution_count": 25,
   "metadata": {},
   "outputs": [
    {
     "name": "stdout",
     "output_type": "stream",
     "text": [
      "count     86320.000000\n",
      "mean       1193.312442\n",
      "std        4199.770581\n",
      "min           2.000000\n",
      "25%         252.000000\n",
      "50%         680.000000\n",
      "75%        1300.000000\n",
      "max      386187.000000\n",
      "Name: Length, dtype: float64\n"
     ]
    }
   ],
   "source": [
    "#Let's look at how the lengths of the emails are distributed\n",
    "print(emails_df['Length'].describe())"
   ]
  },
  {
   "cell_type": "code",
   "execution_count": 26,
   "metadata": {},
   "outputs": [],
   "source": [
    "#we notice a large gap between the 75th and the max hinting presence of outliers\n",
    "#in this case they are large emails which maybe marketing/spam emails hence we subset these\n",
    "emails_df = emails_df.loc[(emails_df['Length']<np.percentile(emails_df['Length'],99))&(emails_df['Length']>0),:]\n",
    "emails_df.reset_index(inplace=True)\n",
    "emails_df.drop('index',axis=1,inplace=True)"
   ]
  },
  {
   "cell_type": "markdown",
   "metadata": {},
   "source": [
    "### Text pre-processing"
   ]
  },
  {
   "cell_type": "code",
   "execution_count": 27,
   "metadata": {},
   "outputs": [],
   "source": [
    "#We start by expanding contractions\n",
    "#here we use a list of common contractions found online\n",
    "contractions = json.load(open(\"contractions.txt\")) \n",
    "contractions_re = re.compile('(%s)' % '|'.join(contractions.keys()))\n",
    "\n",
    "#find and expand contractions using pre-defined dictionary\n",
    "def expand_contractions(s, contractions_dict=contractions):\n",
    "     def replace(match):\n",
    "         return contractions_dict[match.group(0)]\n",
    "     return contractions_re.sub(replace, s)"
   ]
  },
  {
   "cell_type": "code",
   "execution_count": 28,
   "metadata": {},
   "outputs": [
    {
     "name": "stdout",
     "output_type": "stream",
     "text": [
      "Before: Nobody is leaving - it's a new position.\n",
      "After: Nobody is leaving - it is a new position.\n"
     ]
    }
   ],
   "source": [
    "#Let's look at how this affects the text\n",
    "print('Before:',emails_df['Email'].iloc[8])\n",
    "print('After:',expand_contractions(emails_df['Email'].iloc[8]))\n",
    "emails_df['Email'] = emails_df['Email'].apply(lambda x: expand_contractions(x))"
   ]
  },
  {
   "cell_type": "code",
   "execution_count": 29,
   "metadata": {},
   "outputs": [],
   "source": [
    "#Next we perform standard steps like removing outliers, non-alphanumeric characters \n",
    "#and perform stemming to restrict our vocabulary\n",
    "porter = PorterStemmer()\n",
    "stop_words = set(stopwords.words('english'))\n",
    "def clean_text(txt):\n",
    "    return \" \".join([porter.stem(i) for i in word_tokenize(txt.lower()) if i.isalpha() and i not in stop_words])\n",
    "emails_df['Email'] = emails_df['Email'].apply(clean_text)"
   ]
  },
  {
   "cell_type": "code",
   "execution_count": 30,
   "metadata": {},
   "outputs": [
    {
     "data": {
      "text/html": [
       "<div>\n",
       "<style scoped>\n",
       "    .dataframe tbody tr th:only-of-type {\n",
       "        vertical-align: middle;\n",
       "    }\n",
       "\n",
       "    .dataframe tbody tr th {\n",
       "        vertical-align: top;\n",
       "    }\n",
       "\n",
       "    .dataframe thead th {\n",
       "        text-align: right;\n",
       "    }\n",
       "</style>\n",
       "<table border=\"1\" class=\"dataframe\">\n",
       "  <thead>\n",
       "    <tr style=\"text-align: right;\">\n",
       "      <th></th>\n",
       "      <th>file</th>\n",
       "      <th>message</th>\n",
       "      <th>Month</th>\n",
       "      <th>Year</th>\n",
       "      <th>Sender</th>\n",
       "      <th>Receiver</th>\n",
       "      <th>Email</th>\n",
       "      <th>Folder</th>\n",
       "      <th>Length</th>\n",
       "      <th>POI</th>\n",
       "      <th>Date</th>\n",
       "    </tr>\n",
       "  </thead>\n",
       "  <tbody>\n",
       "    <tr>\n",
       "      <td>0</td>\n",
       "      <td>taylor-m/all_documents/87.</td>\n",
       "      <td>Message-ID: &lt;24886497.1075859876880.JavaMail.e...</td>\n",
       "      <td>Jan</td>\n",
       "      <td>1999.0</td>\n",
       "      <td>mark.taylor@enron.com</td>\n",
       "      <td>scott.sefton@enron.com</td>\n",
       "      <td>happi welcom back sorri hear travel problem kn...</td>\n",
       "      <td>all_documents</td>\n",
       "      <td>755</td>\n",
       "      <td>0</td>\n",
       "      <td>1999-01-05 04:04:00</td>\n",
       "    </tr>\n",
       "    <tr>\n",
       "      <td>1</td>\n",
       "      <td>taylor-m/all_documents/88.</td>\n",
       "      <td>Message-ID: &lt;11362494.1075859876902.JavaMail.e...</td>\n",
       "      <td>Jan</td>\n",
       "      <td>1999.0</td>\n",
       "      <td>mark.taylor@enron.com</td>\n",
       "      <td>jenny.helton@enron.com</td>\n",
       "      <td>thursday time look better pmto dale ect bob ec...</td>\n",
       "      <td>all_documents</td>\n",
       "      <td>521</td>\n",
       "      <td>0</td>\n",
       "      <td>1999-01-05 06:54:00</td>\n",
       "    </tr>\n",
       "    <tr>\n",
       "      <td>2</td>\n",
       "      <td>taylor-m/all_documents/96.</td>\n",
       "      <td>Message-ID: &lt;8591399.1075859877135.JavaMail.ev...</td>\n",
       "      <td>Jan</td>\n",
       "      <td>1999.0</td>\n",
       "      <td>mark.taylor@enron.com</td>\n",
       "      <td>carol.clair@enron.com</td>\n",
       "      <td>carol tana mention meet credit guy discuss asp...</td>\n",
       "      <td>all_documents</td>\n",
       "      <td>872</td>\n",
       "      <td>0</td>\n",
       "      <td>1999-01-08 03:38:00</td>\n",
       "    </tr>\n",
       "    <tr>\n",
       "      <td>3</td>\n",
       "      <td>taylor-m/sent/87.</td>\n",
       "      <td>Message-ID: &lt;8455803.1075860048091.JavaMail.ev...</td>\n",
       "      <td>Jan</td>\n",
       "      <td>1999.0</td>\n",
       "      <td>mark.taylor@enron.com</td>\n",
       "      <td>peter.keohane@enron.com</td>\n",
       "      <td>understand tana disagre advic receiv outsid co...</td>\n",
       "      <td>sent</td>\n",
       "      <td>672</td>\n",
       "      <td>0</td>\n",
       "      <td>1999-01-08 08:15:00</td>\n",
       "    </tr>\n",
       "    <tr>\n",
       "      <td>4</td>\n",
       "      <td>taylor-m/sent/88.</td>\n",
       "      <td>Message-ID: &lt;13667607.1075860048113.JavaMail.e...</td>\n",
       "      <td>Jan</td>\n",
       "      <td>1999.0</td>\n",
       "      <td>mark.taylor@enron.com</td>\n",
       "      <td>richard.sanders@enron.com</td>\n",
       "      <td>us chang swap agreement form provid arbitr ord...</td>\n",
       "      <td>sent</td>\n",
       "      <td>960</td>\n",
       "      <td>0</td>\n",
       "      <td>1999-01-08 08:54:00</td>\n",
       "    </tr>\n",
       "  </tbody>\n",
       "</table>\n",
       "</div>"
      ],
      "text/plain": [
       "                         file  \\\n",
       "0  taylor-m/all_documents/87.   \n",
       "1  taylor-m/all_documents/88.   \n",
       "2  taylor-m/all_documents/96.   \n",
       "3           taylor-m/sent/87.   \n",
       "4           taylor-m/sent/88.   \n",
       "\n",
       "                                             message Month    Year  \\\n",
       "0  Message-ID: <24886497.1075859876880.JavaMail.e...   Jan  1999.0   \n",
       "1  Message-ID: <11362494.1075859876902.JavaMail.e...   Jan  1999.0   \n",
       "2  Message-ID: <8591399.1075859877135.JavaMail.ev...   Jan  1999.0   \n",
       "3  Message-ID: <8455803.1075860048091.JavaMail.ev...   Jan  1999.0   \n",
       "4  Message-ID: <13667607.1075860048113.JavaMail.e...   Jan  1999.0   \n",
       "\n",
       "                  Sender                   Receiver  \\\n",
       "0  mark.taylor@enron.com     scott.sefton@enron.com   \n",
       "1  mark.taylor@enron.com     jenny.helton@enron.com   \n",
       "2  mark.taylor@enron.com      carol.clair@enron.com   \n",
       "3  mark.taylor@enron.com    peter.keohane@enron.com   \n",
       "4  mark.taylor@enron.com  richard.sanders@enron.com   \n",
       "\n",
       "                                               Email         Folder  Length  \\\n",
       "0  happi welcom back sorri hear travel problem kn...  all_documents     755   \n",
       "1  thursday time look better pmto dale ect bob ec...  all_documents     521   \n",
       "2  carol tana mention meet credit guy discuss asp...  all_documents     872   \n",
       "3  understand tana disagre advic receiv outsid co...           sent     672   \n",
       "4  us chang swap agreement form provid arbitr ord...           sent     960   \n",
       "\n",
       "   POI                Date  \n",
       "0    0 1999-01-05 04:04:00  \n",
       "1    0 1999-01-05 06:54:00  \n",
       "2    0 1999-01-08 03:38:00  \n",
       "3    0 1999-01-08 08:15:00  \n",
       "4    0 1999-01-08 08:54:00  "
      ]
     },
     "execution_count": 30,
     "metadata": {},
     "output_type": "execute_result"
    }
   ],
   "source": [
    "emails_df.head()"
   ]
  },
  {
   "cell_type": "code",
   "execution_count": 31,
   "metadata": {},
   "outputs": [],
   "source": [
    "#Finally we save our data as a checkpoint\n",
    "# emails_df.to_csv('cleaned_emails.csv')"
   ]
  },
  {
   "cell_type": "markdown",
   "metadata": {},
   "source": [
    "Now that we have our data ready we can proceed with the next steps of building our POI classifier, continued in Part II."
   ]
  }
 ],
 "metadata": {
  "kernelspec": {
   "display_name": "Python 3",
   "language": "python",
   "name": "python3"
  },
  "language_info": {
   "codemirror_mode": {
    "name": "ipython",
    "version": 3
   },
   "file_extension": ".py",
   "mimetype": "text/x-python",
   "name": "python",
   "nbconvert_exporter": "python",
   "pygments_lexer": "ipython3",
   "version": "3.7.4"
  }
 },
 "nbformat": 4,
 "nbformat_minor": 2
}
