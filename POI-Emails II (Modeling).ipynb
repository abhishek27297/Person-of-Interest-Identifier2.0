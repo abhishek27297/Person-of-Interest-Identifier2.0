{
 "cells": [
  {
   "cell_type": "markdown",
   "metadata": {},
   "source": [
    "# Person of Interest Identifier 2.0 Part II\n",
    "### ~Abhishek Singh"
   ]
  },
  {
   "cell_type": "markdown",
   "metadata": {},
   "source": [
    "This is the continuation from Part I where we made our data ready to build our POI classifier. In this section we try different techniques to build this classifier with an aim to detect fraudulent activities."
   ]
  },
  {
   "cell_type": "code",
   "execution_count": 1,
   "metadata": {},
   "outputs": [
    {
     "name": "stderr",
     "output_type": "stream",
     "text": [
      "Using TensorFlow backend.\n"
     ]
    }
   ],
   "source": [
    "#Importing dependencies\n",
    "import warnings\n",
    "warnings.filterwarnings('ignore')\n",
    "import numpy as np\n",
    "from numpy.random import seed\n",
    "import pandas as pd\n",
    "from matplotlib import pyplot as plt\n",
    "import seaborn as sns\n",
    "import pickle as pkl\n",
    "from sklearn.feature_extraction.text import HashingVectorizer\n",
    "from sklearn.model_selection import train_test_split\n",
    "from sklearn.linear_model import LogisticRegression\n",
    "from sklearn.ensemble import RandomForestClassifier\n",
    "from sklearn.metrics import classification_report\n",
    "import tensorflow as tf\n",
    "from tensorflow_core.estimator import inputs\n",
    "import tensorflow_hub as hub\n",
    "from eval_metrics import f1_m,precision_m, recall_m"
   ]
  },
  {
   "cell_type": "code",
   "execution_count": 2,
   "metadata": {},
   "outputs": [],
   "source": [
    "#Reading our pre-processed data\n",
    "emails_df = pd.read_csv('cleaned_emails.csv')\n",
    "if 'Unnamed: 0' in emails_df.columns:\n",
    "    emails_df.drop('Unnamed: 0',axis=1,inplace=True)"
   ]
  },
  {
   "cell_type": "markdown",
   "metadata": {},
   "source": [
    "A big issue in this case is that our data is highly skewed which can be seen by the following countplot"
   ]
  },
  {
   "cell_type": "code",
   "execution_count": 3,
   "metadata": {},
   "outputs": [
    {
     "data": {
      "image/png": "[encoded data removed]",
      "text/plain": [
       "<Figure size 432x288 with 1 Axes>"
      ]
     },
     "metadata": {
      "needs_background": "light"
     },
     "output_type": "display_data"
    }
   ],
   "source": [
    "sns.countplot(emails_df['POI'])\n",
    "plt.show()"
   ]
  },
  {
   "cell_type": "markdown",
   "metadata": {},
   "source": [
    "To fix this we have to select data points of the negative class(POI=0) which can be used to train our classifier. However, instead of randomly selecting data points, we use a different strategy to obtain a respresentative samples of non-POI emails.\n",
    "Rather than sampling directly since these emails belong to Enron employees, we take a small sample from all emails sent by an employee and we do this for every employee. This results in a sample with equal proportion of emails from all employees. We implement this below."
   ]
  },
  {
   "cell_type": "code",
   "execution_count": 4,
   "metadata": {},
   "outputs": [
    {
     "name": "stdout",
     "output_type": "stream",
     "text": [
      "No. of unique sender: 4515\n"
     ]
    }
   ],
   "source": [
    "print('No. of unique sender:',len(emails_df[emails_df['POI']==0]['Sender'].unique())) #4505\n",
    "neg_ind=[] #list to store sample of negative indexes\n",
    "#for all unique employees who have sent an email, select an email to include in our data\n",
    "for i in emails_df.loc[emails_df['POI']==0,'Sender'].unique(): \n",
    "    neg_ind.append(emails_df[(emails_df['Sender']==i) & (emails_df['POI']==0)].sample(1,random_state=27).index[0])\n",
    "ind = neg_ind+list(emails_df[emails_df['POI']==1].index) #complete sample\n",
    "df = emails_df.iloc[ind,2:]\n",
    "df.dropna(inplace=True)"
   ]
  },
  {
   "cell_type": "code",
   "execution_count": 5,
   "metadata": {},
   "outputs": [
    {
     "data": {
      "image/png": "[encoded data removed]",
      "text/plain": [
       "<Figure size 432x288 with 1 Axes>"
      ]
     },
     "metadata": {
      "needs_background": "light"
     },
     "output_type": "display_data"
    }
   ],
   "source": [
    "sns.countplot(df['POI'])\n",
    "plt.show()"
   ]
  },
  {
   "cell_type": "markdown",
   "metadata": {},
   "source": [
    "As a result we still have class imbalance however far lesser than before, we can now use this to train our model."
   ]
  },
  {
   "cell_type": "code",
   "execution_count": 6,
   "metadata": {},
   "outputs": [
    {
     "data": {
      "text/html": [
       "<div>\n",
       "<style scoped>\n",
       "    .dataframe tbody tr th:only-of-type {\n",
       "        vertical-align: middle;\n",
       "    }\n",
       "\n",
       "    .dataframe tbody tr th {\n",
       "        vertical-align: top;\n",
       "    }\n",
       "\n",
       "    .dataframe thead th {\n",
       "        text-align: right;\n",
       "    }\n",
       "</style>\n",
       "<table border=\"1\" class=\"dataframe\">\n",
       "  <thead>\n",
       "    <tr style=\"text-align: right;\">\n",
       "      <th></th>\n",
       "      <th>Month</th>\n",
       "      <th>Year</th>\n",
       "      <th>Sender</th>\n",
       "      <th>Receiver</th>\n",
       "      <th>Email</th>\n",
       "      <th>POI</th>\n",
       "      <th>Date</th>\n",
       "      <th>Folder</th>\n",
       "      <th>Length</th>\n",
       "    </tr>\n",
       "  </thead>\n",
       "  <tbody>\n",
       "    <tr>\n",
       "      <td>9802</td>\n",
       "      <td>Jul</td>\n",
       "      <td>2000.0</td>\n",
       "      <td>mark.taylor@enron.com</td>\n",
       "      <td>craig.clark@enron.com</td>\n",
       "      <td>fcochran mark craig annmari tiller brent vasco...</td>\n",
       "      <td>0</td>\n",
       "      <td>2000-07-28 04:34:00</td>\n",
       "      <td>all_documents</td>\n",
       "      <td>656</td>\n",
       "    </tr>\n",
       "    <tr>\n",
       "      <td>46274</td>\n",
       "      <td>Jun</td>\n",
       "      <td>2001.0</td>\n",
       "      <td>christian.yoder@enron.com</td>\n",
       "      <td>jan.king@enron.com</td>\n",
       "      <td>pleas print doc sara pat send anoth case soon ...</td>\n",
       "      <td>0</td>\n",
       "      <td>2001-06-05 11:24:00</td>\n",
       "      <td>all_documents</td>\n",
       "      <td>58</td>\n",
       "    </tr>\n",
       "    <tr>\n",
       "      <td>2513</td>\n",
       "      <td>Jan</td>\n",
       "      <td>2000.0</td>\n",
       "      <td>mark.elliott@enron.com</td>\n",
       "      <td>bob.crane@enron.com</td>\n",
       "      <td>bob martin holm steve kim mark taylor paul sim...</td>\n",
       "      <td>0</td>\n",
       "      <td>2000-01-31 04:47:00</td>\n",
       "      <td>archive</td>\n",
       "      <td>727</td>\n",
       "    </tr>\n",
       "    <tr>\n",
       "      <td>54</td>\n",
       "      <td>May</td>\n",
       "      <td>1999.0</td>\n",
       "      <td>team.san-juan-laplata@enron.com</td>\n",
       "      <td>larry.campbell@enron.com</td>\n",
       "      <td>follow descript explan violat occur la plata c...</td>\n",
       "      <td>0</td>\n",
       "      <td>1999-05-03 09:32:00</td>\n",
       "      <td>discussion_threads</td>\n",
       "      <td>63</td>\n",
       "    </tr>\n",
       "    <tr>\n",
       "      <td>41</td>\n",
       "      <td>Apr</td>\n",
       "      <td>1999.0</td>\n",
       "      <td>leo.nichols@enron.com</td>\n",
       "      <td>larry.campbell@enron.com</td>\n",
       "      <td>know data find john woodyardroy clayton road s...</td>\n",
       "      <td>0</td>\n",
       "      <td>1999-04-05 00:33:00</td>\n",
       "      <td>all_documents</td>\n",
       "      <td>100</td>\n",
       "    </tr>\n",
       "  </tbody>\n",
       "</table>\n",
       "</div>"
      ],
      "text/plain": [
       "      Month    Year                           Sender  \\\n",
       "9802    Jul  2000.0            mark.taylor@enron.com   \n",
       "46274   Jun  2001.0        christian.yoder@enron.com   \n",
       "2513    Jan  2000.0           mark.elliott@enron.com   \n",
       "54      May  1999.0  team.san-juan-laplata@enron.com   \n",
       "41      Apr  1999.0            leo.nichols@enron.com   \n",
       "\n",
       "                       Receiver  \\\n",
       "9802      craig.clark@enron.com   \n",
       "46274        jan.king@enron.com   \n",
       "2513        bob.crane@enron.com   \n",
       "54     larry.campbell@enron.com   \n",
       "41     larry.campbell@enron.com   \n",
       "\n",
       "                                                   Email  POI  \\\n",
       "9802   fcochran mark craig annmari tiller brent vasco...    0   \n",
       "46274  pleas print doc sara pat send anoth case soon ...    0   \n",
       "2513   bob martin holm steve kim mark taylor paul sim...    0   \n",
       "54     follow descript explan violat occur la plata c...    0   \n",
       "41     know data find john woodyardroy clayton road s...    0   \n",
       "\n",
       "                      Date              Folder  Length  \n",
       "9802   2000-07-28 04:34:00       all_documents     656  \n",
       "46274  2001-06-05 11:24:00       all_documents      58  \n",
       "2513   2000-01-31 04:47:00             archive     727  \n",
       "54     1999-05-03 09:32:00  discussion_threads      63  \n",
       "41     1999-04-05 00:33:00       all_documents     100  "
      ]
     },
     "execution_count": 6,
     "metadata": {},
     "output_type": "execute_result"
    }
   ],
   "source": [
    "df.head()"
   ]
  },
  {
   "cell_type": "markdown",
   "metadata": {},
   "source": [
    "#### First approach - Machine Learning\n",
    "We start by trying convetional ML algorithms to build our classifier"
   ]
  },
  {
   "cell_type": "code",
   "execution_count": 7,
   "metadata": {},
   "outputs": [],
   "source": [
    "#To use our emails text we first have to vectorize it\n",
    "#In this case we use a hashing vectorizer which hashes all the characters in buckets\n",
    "vectorizer = HashingVectorizer(n_features=2**8) #set size of bucket(256)\n",
    "X = vectorizer.fit_transform(df['Email']) #transform emails"
   ]
  },
  {
   "cell_type": "code",
   "execution_count": 8,
   "metadata": {},
   "outputs": [],
   "source": [
    "#Train-test split\n",
    "#We take into account class imbalance by building a stratified split\n",
    "X_train, X_t, y_train, y_t = train_test_split(X,df['POI'].values,train_size=0.6,stratify= df['POI'].values,random_state=27)\n",
    "X_valid, X_test, y_valid, y_test = train_test_split(X_t,y_t,train_size=0.5,stratify=y_t,random_state=27)"
   ]
  },
  {
   "cell_type": "markdown",
   "metadata": {},
   "source": [
    "Logistic Regression"
   ]
  },
  {
   "cell_type": "code",
   "execution_count": 9,
   "metadata": {},
   "outputs": [
    {
     "data": {
      "text/plain": [
       "LogisticRegression(C=1.25, class_weight='balanced', dual=False,\n",
       "                   fit_intercept=True, intercept_scaling=1, l1_ratio=None,\n",
       "                   max_iter=100, multi_class='auto', n_jobs=-1, penalty='l1',\n",
       "                   random_state=27, solver='saga', tol=0.0001, verbose=0,\n",
       "                   warm_start=False)"
      ]
     },
     "execution_count": 9,
     "metadata": {},
     "output_type": "execute_result"
    }
   ],
   "source": [
    "#Tuned paramters\n",
    "lr = LogisticRegression(random_state=27,penalty='l1',class_weight='balanced',solver='saga',C=(1/0.8),n_jobs=-1)\n",
    "lr.fit(X_train, y_train)"
   ]
  },
  {
   "cell_type": "code",
   "execution_count": 10,
   "metadata": {},
   "outputs": [
    {
     "name": "stdout",
     "output_type": "stream",
     "text": [
      "              precision    recall  f1-score   support\n",
      "\n",
      "     Non-POI       0.91      0.93      0.92       898\n",
      "         POI       0.36      0.31      0.33       121\n",
      "\n",
      "    accuracy                           0.85      1019\n",
      "   macro avg       0.63      0.62      0.62      1019\n",
      "weighted avg       0.84      0.85      0.85      1019\n",
      "\n"
     ]
    }
   ],
   "source": [
    "y_pred = lr.predict(X_valid)\n",
    "target_names = ['Non-POI', 'POI']\n",
    "print(classification_report(y_valid, y_pred, target_names=target_names))"
   ]
  },
  {
   "cell_type": "markdown",
   "metadata": {},
   "source": [
    "Random Forest"
   ]
  },
  {
   "cell_type": "code",
   "execution_count": 11,
   "metadata": {},
   "outputs": [
    {
     "data": {
      "text/plain": [
       "RandomForestClassifier(bootstrap=True, ccp_alpha=0.0, class_weight='balanced',\n",
       "                       criterion='gini', max_depth=12, max_features='log2',\n",
       "                       max_leaf_nodes=None, max_samples=None,\n",
       "                       min_impurity_decrease=0.0, min_impurity_split=None,\n",
       "                       min_samples_leaf=1, min_samples_split=2,\n",
       "                       min_weight_fraction_leaf=0.0, n_estimators=250,\n",
       "                       n_jobs=-1, oob_score=False, random_state=27, verbose=0,\n",
       "                       warm_start=False)"
      ]
     },
     "execution_count": 11,
     "metadata": {},
     "output_type": "execute_result"
    }
   ],
   "source": [
    "rfc = RandomForestClassifier(max_depth=12,n_estimators=250,max_features='log2',n_jobs=-1,class_weight='balanced',\n",
    "                             random_state=27)\n",
    "rfc.fit(X_train, y_train)"
   ]
  },
  {
   "cell_type": "code",
   "execution_count": 12,
   "metadata": {},
   "outputs": [
    {
     "name": "stdout",
     "output_type": "stream",
     "text": [
      "              precision    recall  f1-score   support\n",
      "\n",
      "     Non-POI       0.92      0.85      0.88       898\n",
      "         POI       0.30      0.49      0.37       121\n",
      "\n",
      "    accuracy                           0.80      1019\n",
      "   macro avg       0.61      0.67      0.63      1019\n",
      "weighted avg       0.85      0.80      0.82      1019\n",
      "\n"
     ]
    }
   ],
   "source": [
    "y_treepred = rfc.predict(X_valid)\n",
    "target_names = ['Non-POI', 'POI']\n",
    "print(classification_report(y_valid, y_treepred, target_names=target_names))"
   ]
  },
  {
   "cell_type": "markdown",
   "metadata": {},
   "source": [
    "#### Second approach - ANN using only Emails(keras)\n",
    "In this approach we build a ANN model using only text features from Emails as before"
   ]
  },
  {
   "cell_type": "code",
   "execution_count": 13,
   "metadata": {},
   "outputs": [],
   "source": [
    "#Data used here is a similar sample like one constructed before\n",
    "#however the text here has not been stemmed as we use embeddings\n",
    "df = pd.read_csv('cleaned_emails_v2_sample.csv') #without stemming\n",
    "if 'Unnamed: 0' in df.columns:\n",
    "    df.drop('Unnamed: 0',axis=1,inplace=True)\n",
    "    \n",
    "seed(27)\n",
    "tf.random.set_seed(27)"
   ]
  },
  {
   "cell_type": "code",
   "execution_count": 14,
   "metadata": {},
   "outputs": [],
   "source": [
    "#Stratified Train-test split\n",
    "X_train, X_t, y_train, y_t = train_test_split(df['Email'].values,df['POI'].values,train_size=0.6,stratify= df['POI'].values,\n",
    "                                              random_state=27)\n",
    "X_valid, X_test, y_valid, y_test = train_test_split(X_t,y_t,train_size=0.5,stratify=y_t,random_state=27)"
   ]
  },
  {
   "cell_type": "markdown",
   "metadata": {},
   "source": [
    "We build an embedding layer which transforms text features into actual real numbers.\n",
    "These mappings can be learnt from the data itself or available mappings for texts can be used as is. They map text such that words with similar meaning end up close to each other when projected using these embeddings."
   ]
  },
  {
   "cell_type": "code",
   "execution_count": 15,
   "metadata": {},
   "outputs": [
    {
     "data": {
      "text/plain": [
       "<tf.Tensor: id=177, shape=(3, 20), dtype=float32, numpy=\n",
       "array([[-0.0690988 , -1.2675935 ,  1.0311586 ,  0.7642924 , -1.629991  ,\n",
       "        -1.583989  , -0.5602671 ,  0.64905256, -0.89884424,  0.03109733,\n",
       "        -1.1423014 ,  0.6040384 ,  0.1921743 ,  0.05076366, -1.792022  ,\n",
       "         1.3703084 ,  3.3514085 , -0.66031533, -0.52611065, -0.05823308],\n",
       "       [ 0.03496719, -1.5895993 ,  0.9304886 ,  0.26502314, -1.8791146 ,\n",
       "        -1.0367429 , -0.7065219 ,  0.4664881 ,  0.84767896,  0.07823891,\n",
       "        -1.4019903 ,  0.4040001 ,  0.02059706,  0.3288846 , -1.2730055 ,\n",
       "         0.49841094,  1.3465902 , -0.7286868 , -0.77458346, -0.4197046 ],\n",
       "       [ 0.04950552, -1.7985698 ,  3.5081844 ,  4.531414  , -0.9298033 ,\n",
       "        -3.4525535 ,  0.6759118 ,  1.7517952 , -0.8342227 , -0.2107257 ,\n",
       "        -0.29104224,  0.6120026 , -2.2133074 ,  1.0173491 , -0.24392878,\n",
       "         1.5154071 ,  5.400674  , -2.08155   ,  0.17594421, -1.3164209 ]],\n",
       "      dtype=float32)>"
      ]
     },
     "execution_count": 15,
     "metadata": {},
     "output_type": "execute_result"
    }
   ],
   "source": [
    "#Embedding layer\n",
    "embedding = \"https://tfhub.dev/google/tf2-preview/gnews-swivel-20dim/1\"\n",
    "hub_layer = hub.KerasLayer(embedding, input_shape=[], dtype=tf.string, trainable=True)\n",
    "hub_layer(df['Email'][:3]) #Emails transformed into arrays"
   ]
  },
  {
   "cell_type": "code",
   "execution_count": 16,
   "metadata": {},
   "outputs": [
    {
     "name": "stdout",
     "output_type": "stream",
     "text": [
      "Model: \"sequential\"\n",
      "_________________________________________________________________\n",
      "Layer (type)                 Output Shape              Param #   \n",
      "=================================================================\n",
      "keras_layer (KerasLayer)     (None, 20)                400020    \n",
      "_________________________________________________________________\n",
      "dense (Dense)                (None, 10)                210       \n",
      "_________________________________________________________________\n",
      "dense_1 (Dense)              (None, 1)                 11        \n",
      "=================================================================\n",
      "Total params: 400,241\n",
      "Trainable params: 400,241\n",
      "Non-trainable params: 0\n",
      "_________________________________________________________________\n"
     ]
    }
   ],
   "source": [
    "#Model\n",
    "model = tf.keras.Sequential()\n",
    "model.add(hub_layer)\n",
    "model.add(tf.keras.layers.Dense(10, activation='relu'))\n",
    "model.add(tf.keras.layers.Dense(1, activation='sigmoid'))\n",
    "\n",
    "model.summary()"
   ]
  },
  {
   "cell_type": "code",
   "execution_count": 17,
   "metadata": {},
   "outputs": [],
   "source": [
    "#Tuned paramters\n",
    "model.compile(optimizer='adam',\n",
    "              learning_rate=0.05,\n",
    "              loss='binary_crossentropy',\n",
    "              metrics=['accuracy',f1_m],\n",
    "             seed=27)"
   ]
  },
  {
   "cell_type": "code",
   "execution_count": 18,
   "metadata": {},
   "outputs": [
    {
     "name": "stdout",
     "output_type": "stream",
     "text": [
      "Train on 3067 samples, validate on 1022 samples\n",
      "Epoch 1/50\n",
      "3067/3067 - 2s - loss: 0.7400 - accuracy: 0.5797 - f1_m: 0.1694 - val_loss: 0.5159 - val_accuracy: 0.7769 - val_f1_m: 0.1383\n",
      "Epoch 2/50\n",
      "3067/3067 - 0s - loss: 0.4588 - accuracy: 0.8200 - f1_m: 0.1170 - val_loss: 0.4321 - val_accuracy: 0.8513 - val_f1_m: 0.0524\n",
      "Epoch 3/50\n",
      "3067/3067 - 0s - loss: 0.4112 - accuracy: 0.8582 - f1_m: 0.0761 - val_loss: 0.4178 - val_accuracy: 0.8620 - val_f1_m: 0.0424\n",
      "Epoch 4/50\n",
      "3067/3067 - 0s - loss: 0.3966 - accuracy: 0.8683 - f1_m: 0.0769 - val_loss: 0.4091 - val_accuracy: 0.8669 - val_f1_m: 0.0430\n",
      "Epoch 5/50\n",
      "3067/3067 - 0s - loss: 0.3856 - accuracy: 0.8725 - f1_m: 0.0651 - val_loss: 0.4016 - val_accuracy: 0.8669 - val_f1_m: 0.0304\n",
      "Epoch 6/50\n",
      "3067/3067 - 1s - loss: 0.3758 - accuracy: 0.8735 - f1_m: 0.0768 - val_loss: 0.3938 - val_accuracy: 0.8689 - val_f1_m: 0.0310\n",
      "Epoch 7/50\n",
      "3067/3067 - 0s - loss: 0.3662 - accuracy: 0.8745 - f1_m: 0.0757 - val_loss: 0.3871 - val_accuracy: 0.8699 - val_f1_m: 0.0317\n",
      "Epoch 8/50\n",
      "3067/3067 - 0s - loss: 0.3575 - accuracy: 0.8781 - f1_m: 0.0755 - val_loss: 0.3820 - val_accuracy: 0.8708 - val_f1_m: 0.0235\n",
      "Epoch 9/50\n",
      "3067/3067 - 0s - loss: 0.3491 - accuracy: 0.8787 - f1_m: 0.0774 - val_loss: 0.3753 - val_accuracy: 0.8718 - val_f1_m: 0.0239\n",
      "Epoch 10/50\n",
      "3067/3067 - 0s - loss: 0.3410 - accuracy: 0.8807 - f1_m: 0.0930 - val_loss: 0.3704 - val_accuracy: 0.8718 - val_f1_m: 0.0239\n",
      "Epoch 11/50\n",
      "3067/3067 - 1s - loss: 0.3331 - accuracy: 0.8820 - f1_m: 0.1014 - val_loss: 0.3658 - val_accuracy: 0.8738 - val_f1_m: 0.0382\n",
      "Epoch 12/50\n",
      "3067/3067 - 1s - loss: 0.3253 - accuracy: 0.8826 - f1_m: 0.1031 - val_loss: 0.3606 - val_accuracy: 0.8738 - val_f1_m: 0.0382\n",
      "Epoch 13/50\n",
      "3067/3067 - 1s - loss: 0.3175 - accuracy: 0.8833 - f1_m: 0.1018 - val_loss: 0.3570 - val_accuracy: 0.8738 - val_f1_m: 0.0382\n",
      "Epoch 14/50\n",
      "3067/3067 - 1s - loss: 0.3094 - accuracy: 0.8836 - f1_m: 0.0967 - val_loss: 0.3524 - val_accuracy: 0.8748 - val_f1_m: 0.0634\n",
      "Epoch 15/50\n",
      "3067/3067 - 1s - loss: 0.3013 - accuracy: 0.8856 - f1_m: 0.1254 - val_loss: 0.3486 - val_accuracy: 0.8748 - val_f1_m: 0.0666\n",
      "Epoch 16/50\n",
      "3067/3067 - 1s - loss: 0.2929 - accuracy: 0.8878 - f1_m: 0.1555 - val_loss: 0.3447 - val_accuracy: 0.8738 - val_f1_m: 0.0666\n",
      "Epoch 17/50\n",
      "3067/3067 - 1s - loss: 0.2840 - accuracy: 0.8904 - f1_m: 0.1941 - val_loss: 0.3410 - val_accuracy: 0.8748 - val_f1_m: 0.0671\n",
      "Epoch 18/50\n",
      "3067/3067 - 0s - loss: 0.2751 - accuracy: 0.8927 - f1_m: 0.2322 - val_loss: 0.3370 - val_accuracy: 0.8757 - val_f1_m: 0.0777\n",
      "Epoch 19/50\n",
      "3067/3067 - 0s - loss: 0.2657 - accuracy: 0.8973 - f1_m: 0.2803 - val_loss: 0.3331 - val_accuracy: 0.8738 - val_f1_m: 0.0777\n",
      "Epoch 20/50\n",
      "3067/3067 - 0s - loss: 0.2561 - accuracy: 0.8999 - f1_m: 0.2898 - val_loss: 0.3302 - val_accuracy: 0.8767 - val_f1_m: 0.1045\n",
      "Epoch 21/50\n",
      "3067/3067 - 1s - loss: 0.2460 - accuracy: 0.9058 - f1_m: 0.3538 - val_loss: 0.3278 - val_accuracy: 0.8787 - val_f1_m: 0.1156\n",
      "Epoch 22/50\n",
      "3067/3067 - 1s - loss: 0.2362 - accuracy: 0.9097 - f1_m: 0.4101 - val_loss: 0.3239 - val_accuracy: 0.8816 - val_f1_m: 0.1628\n",
      "Epoch 23/50\n",
      "3067/3067 - 0s - loss: 0.2258 - accuracy: 0.9152 - f1_m: 0.4585 - val_loss: 0.3211 - val_accuracy: 0.8836 - val_f1_m: 0.1745\n",
      "Epoch 24/50\n",
      "3067/3067 - 0s - loss: 0.2157 - accuracy: 0.9201 - f1_m: 0.5178 - val_loss: 0.3190 - val_accuracy: 0.8845 - val_f1_m: 0.2058\n",
      "Epoch 25/50\n",
      "3067/3067 - 0s - loss: 0.2059 - accuracy: 0.9221 - f1_m: 0.5367 - val_loss: 0.3166 - val_accuracy: 0.8826 - val_f1_m: 0.2024\n",
      "Epoch 26/50\n",
      "3067/3067 - 1s - loss: 0.1963 - accuracy: 0.9289 - f1_m: 0.5936 - val_loss: 0.3148 - val_accuracy: 0.8826 - val_f1_m: 0.2153\n",
      "Epoch 27/50\n",
      "3067/3067 - 1s - loss: 0.1868 - accuracy: 0.9315 - f1_m: 0.5987 - val_loss: 0.3134 - val_accuracy: 0.8826 - val_f1_m: 0.2354\n",
      "Epoch 28/50\n",
      "3067/3067 - 0s - loss: 0.1775 - accuracy: 0.9354 - f1_m: 0.6463 - val_loss: 0.3130 - val_accuracy: 0.8865 - val_f1_m: 0.2796\n",
      "Epoch 29/50\n",
      "3067/3067 - 0s - loss: 0.1685 - accuracy: 0.9397 - f1_m: 0.6654 - val_loss: 0.3128 - val_accuracy: 0.8845 - val_f1_m: 0.2850\n",
      "Epoch 30/50\n",
      "3067/3067 - 0s - loss: 0.1600 - accuracy: 0.9426 - f1_m: 0.6970 - val_loss: 0.3130 - val_accuracy: 0.8836 - val_f1_m: 0.2896\n",
      "Epoch 31/50\n",
      "3067/3067 - 1s - loss: 0.1515 - accuracy: 0.9469 - f1_m: 0.7125 - val_loss: 0.3151 - val_accuracy: 0.8816 - val_f1_m: 0.2856\n",
      "Epoch 32/50\n",
      "3067/3067 - 1s - loss: 0.1439 - accuracy: 0.9501 - f1_m: 0.7320 - val_loss: 0.3164 - val_accuracy: 0.8796 - val_f1_m: 0.3017\n",
      "Epoch 33/50\n",
      "3067/3067 - 1s - loss: 0.1365 - accuracy: 0.9527 - f1_m: 0.7530 - val_loss: 0.3199 - val_accuracy: 0.8777 - val_f1_m: 0.2987\n",
      "Epoch 34/50\n",
      "3067/3067 - 0s - loss: 0.1296 - accuracy: 0.9537 - f1_m: 0.7671 - val_loss: 0.3217 - val_accuracy: 0.8787 - val_f1_m: 0.3189\n",
      "Epoch 35/50\n",
      "3067/3067 - 0s - loss: 0.1227 - accuracy: 0.9557 - f1_m: 0.7723 - val_loss: 0.3264 - val_accuracy: 0.8777 - val_f1_m: 0.3095\n",
      "Epoch 36/50\n",
      "3067/3067 - 1s - loss: 0.1166 - accuracy: 0.9592 - f1_m: 0.7904 - val_loss: 0.3292 - val_accuracy: 0.8777 - val_f1_m: 0.3275\n",
      "Epoch 37/50\n",
      "3067/3067 - 1s - loss: 0.1108 - accuracy: 0.9605 - f1_m: 0.8047 - val_loss: 0.3351 - val_accuracy: 0.8777 - val_f1_m: 0.3275\n",
      "Epoch 38/50\n",
      "3067/3067 - 1s - loss: 0.1053 - accuracy: 0.9638 - f1_m: 0.8207 - val_loss: 0.3383 - val_accuracy: 0.8767 - val_f1_m: 0.3260\n",
      "Epoch 39/50\n",
      "3067/3067 - 1s - loss: 0.1002 - accuracy: 0.9674 - f1_m: 0.8443 - val_loss: 0.3434 - val_accuracy: 0.8757 - val_f1_m: 0.3239\n",
      "Epoch 40/50\n",
      "3067/3067 - 0s - loss: 0.0955 - accuracy: 0.9694 - f1_m: 0.8380 - val_loss: 0.3499 - val_accuracy: 0.8757 - val_f1_m: 0.3239\n",
      "Epoch 41/50\n",
      "3067/3067 - 1s - loss: 0.0909 - accuracy: 0.9716 - f1_m: 0.8698 - val_loss: 0.3573 - val_accuracy: 0.8767 - val_f1_m: 0.3196\n",
      "Epoch 42/50\n",
      "3067/3067 - 1s - loss: 0.0870 - accuracy: 0.9723 - f1_m: 0.8698 - val_loss: 0.3619 - val_accuracy: 0.8757 - val_f1_m: 0.3270\n",
      "Epoch 43/50\n",
      "3067/3067 - 1s - loss: 0.0830 - accuracy: 0.9749 - f1_m: 0.8770 - val_loss: 0.3690 - val_accuracy: 0.8748 - val_f1_m: 0.3255\n",
      "Epoch 44/50\n",
      "3067/3067 - 1s - loss: 0.0794 - accuracy: 0.9749 - f1_m: 0.8727 - val_loss: 0.3781 - val_accuracy: 0.8748 - val_f1_m: 0.3255\n",
      "Epoch 45/50\n",
      "3067/3067 - 0s - loss: 0.0763 - accuracy: 0.9755 - f1_m: 0.8901 - val_loss: 0.3823 - val_accuracy: 0.8728 - val_f1_m: 0.3221\n",
      "Epoch 46/50\n",
      "3067/3067 - 1s - loss: 0.0731 - accuracy: 0.9785 - f1_m: 0.9020 - val_loss: 0.3898 - val_accuracy: 0.8718 - val_f1_m: 0.3284\n",
      "Epoch 47/50\n",
      "3067/3067 - 1s - loss: 0.0702 - accuracy: 0.9795 - f1_m: 0.9020 - val_loss: 0.3990 - val_accuracy: 0.8738 - val_f1_m: 0.3317\n",
      "Epoch 48/50\n",
      "3067/3067 - 0s - loss: 0.0675 - accuracy: 0.9798 - f1_m: 0.9050 - val_loss: 0.4050 - val_accuracy: 0.8718 - val_f1_m: 0.3358\n",
      "Epoch 49/50\n",
      "3067/3067 - 0s - loss: 0.0648 - accuracy: 0.9824 - f1_m: 0.9192 - val_loss: 0.4127 - val_accuracy: 0.8728 - val_f1_m: 0.3382\n",
      "Epoch 50/50\n",
      "3067/3067 - 0s - loss: 0.0624 - accuracy: 0.9837 - f1_m: 0.9276 - val_loss: 0.4212 - val_accuracy: 0.8728 - val_f1_m: 0.3504\n"
     ]
    },
    {
     "data": {
      "text/plain": [
       "<tensorflow.python.keras.callbacks.History at 0x20f993f3a48>"
      ]
     },
     "execution_count": 18,
     "metadata": {},
     "output_type": "execute_result"
    }
   ],
   "source": [
    "#Training our model\n",
    "model.fit(X_train, y_train,\n",
    "                    epochs=50,\n",
    "                    validation_data=(X_valid,y_valid),\n",
    "                    batch_size=128,\n",
    "                    verbose=2)"
   ]
  },
  {
   "cell_type": "code",
   "execution_count": 19,
   "metadata": {},
   "outputs": [
    {
     "name": "stdout",
     "output_type": "stream",
     "text": [
      "Saved model to disk\n"
     ]
    }
   ],
   "source": [
    "# model.save(\"model.h5\")\n",
    "print(\"Saved model to disk\")"
   ]
  },
  {
   "cell_type": "markdown",
   "metadata": {},
   "source": [
    "The main purpose of this model was to use it in the web-app developed, where this model is used to make predictions on the go on text inputs given through the app. It predicts if the given input resembles a fraudulent POI email."
   ]
  },
  {
   "cell_type": "markdown",
   "metadata": {},
   "source": [
    "#### Third approach - ANN with other features along with email(Tensorflow)\n",
    "In this approach we build a hybrid model using other features with emails"
   ]
  },
  {
   "cell_type": "code",
   "execution_count": 20,
   "metadata": {},
   "outputs": [],
   "source": [
    "features = df[['Length','Month','Folder','Email']]\n",
    "target = df['POI']"
   ]
  },
  {
   "cell_type": "code",
   "execution_count": 21,
   "metadata": {},
   "outputs": [],
   "source": [
    "#Stratified train-test split\n",
    "X_train, X_valid, y_train, y_valid = train_test_split(features,target,train_size=0.7,stratify= df['POI'].values,\n",
    "                                              random_state=27)"
   ]
  },
  {
   "cell_type": "code",
   "execution_count": 22,
   "metadata": {},
   "outputs": [],
   "source": [
    "#train and test input functions\n",
    "train_input_fn = tf.compat.v1.estimator.inputs.pandas_input_fn(X_train,y_train,shuffle=True, num_epochs=10, batch_size=128)\n",
    "test_input_fn = tf.compat.v1.estimator.inputs.pandas_input_fn(X_valid,y_valid, shuffle=False, batch_size=1)"
   ]
  },
  {
   "cell_type": "code",
   "execution_count": 23,
   "metadata": {},
   "outputs": [],
   "source": [
    "#Constructing feature columns\n",
    "feature_columns=[]\n",
    "feature_columns.append(tf.feature_column.numeric_column('Length')) # numeric coln length\n",
    "\n",
    "month = tf.feature_column.categorical_column_with_vocabulary_list('Month', ['Jun', 'Feb', 'Jan', \n",
    "                                                                        'May', 'Apr', 'Nov', \n",
    "                                                                        'Sep', 'Jul', 'Mar',\n",
    "                                                                        'Oct', 'Aug', 'Dec'])\n",
    "month_one_hot = tf.feature_column.indicator_column(month)\n",
    "feature_columns.append(month_one_hot)\n",
    "\n",
    "#embedding coln folder with vocab list\n",
    "folder = tf.feature_column.categorical_column_with_vocabulary_list('Folder',list(df['Folder'].unique()))\n",
    "folder_embedding = tf.feature_column.embedding_column(folder, dimension=33)\n",
    "feature_columns.append(folder_embedding)\n",
    "\n",
    "#Text coln emails\n",
    "embedded_text_feature_column = hub.text_embedding_column(key=\"Email\",module_spec=\"https://tfhub.dev/google/nnlm-en-dim128/1\")\n",
    "feature_columns.append(embedded_text_feature_column)"
   ]
  },
  {
   "cell_type": "code",
   "execution_count": 24,
   "metadata": {},
   "outputs": [
    {
     "name": "stdout",
     "output_type": "stream",
     "text": [
      "INFO:tensorflow:Using default config.\n"
     ]
    },
    {
     "name": "stderr",
     "output_type": "stream",
     "text": [
      "INFO:tensorflow:Using default config.\n"
     ]
    },
    {
     "name": "stdout",
     "output_type": "stream",
     "text": [
      "INFO:tensorflow:Using config: {'_model_dir': './output1', '_tf_random_seed': None, '_save_summary_steps': 100, '_save_checkpoints_steps': None, '_save_checkpoints_secs': 600, '_session_config': allow_soft_placement: true\n",
      "graph_options {\n",
      "  rewrite_options {\n",
      "    meta_optimizer_iterations: ONE\n",
      "  }\n",
      "}\n",
      ", '_keep_checkpoint_max': 5, '_keep_checkpoint_every_n_hours': 10000, '_log_step_count_steps': 100, '_train_distribute': None, '_device_fn': None, '_protocol': None, '_eval_distribute': None, '_experimental_distribute': None, '_experimental_max_worker_delay_secs': None, '_session_creation_timeout_secs': 7200, '_service': None, '_cluster_spec': <tensorflow.python.training.server_lib.ClusterSpec object at 0x0000020F989DE408>, '_task_type': 'worker', '_task_id': 0, '_global_id_in_cluster': 0, '_master': '', '_evaluation_master': '', '_is_chief': True, '_num_ps_replicas': 0, '_num_worker_replicas': 1}\n"
     ]
    },
    {
     "name": "stderr",
     "output_type": "stream",
     "text": [
      "INFO:tensorflow:Using config: {'_model_dir': './output1', '_tf_random_seed': None, '_save_summary_steps': 100, '_save_checkpoints_steps': None, '_save_checkpoints_secs': 600, '_session_config': allow_soft_placement: true\n",
      "graph_options {\n",
      "  rewrite_options {\n",
      "    meta_optimizer_iterations: ONE\n",
      "  }\n",
      "}\n",
      ", '_keep_checkpoint_max': 5, '_keep_checkpoint_every_n_hours': 10000, '_log_step_count_steps': 100, '_train_distribute': None, '_device_fn': None, '_protocol': None, '_eval_distribute': None, '_experimental_distribute': None, '_experimental_max_worker_delay_secs': None, '_session_creation_timeout_secs': 7200, '_service': None, '_cluster_spec': <tensorflow.python.training.server_lib.ClusterSpec object at 0x0000020F989DE408>, '_task_type': 'worker', '_task_id': 0, '_global_id_in_cluster': 0, '_master': '', '_evaluation_master': '', '_is_chief': True, '_num_ps_replicas': 0, '_num_worker_replicas': 1}\n"
     ]
    }
   ],
   "source": [
    "#Building our model\n",
    "estimator = tf.estimator.DNNClassifier(\n",
    "    hidden_units=[16, 32],\n",
    "    feature_columns=feature_columns,\n",
    "    n_classes=2,\n",
    "    optimizer = 'Adam', \n",
    "    model_dir='./output1')"
   ]
  },
  {
   "cell_type": "code",
   "execution_count": 25,
   "metadata": {},
   "outputs": [
    {
     "name": "stdout",
     "output_type": "stream",
     "text": [
      "WARNING:tensorflow:From C:\\Users\\abhis\\Anaconda3\\lib\\site-packages\\tensorflow_core\\python\\ops\\resource_variable_ops.py:1630: calling BaseResourceVariable.__init__ (from tensorflow.python.ops.resource_variable_ops) with constraint is deprecated and will be removed in a future version.\n",
      "Instructions for updating:\n",
      "If using Keras pass *_constraint arguments to layers.\n"
     ]
    },
    {
     "name": "stderr",
     "output_type": "stream",
     "text": [
      "WARNING:tensorflow:From C:\\Users\\abhis\\Anaconda3\\lib\\site-packages\\tensorflow_core\\python\\ops\\resource_variable_ops.py:1630: calling BaseResourceVariable.__init__ (from tensorflow.python.ops.resource_variable_ops) with constraint is deprecated and will be removed in a future version.\n",
      "Instructions for updating:\n",
      "If using Keras pass *_constraint arguments to layers.\n"
     ]
    },
    {
     "name": "stdout",
     "output_type": "stream",
     "text": [
      "WARNING:tensorflow:From C:\\Users\\abhis\\Anaconda3\\lib\\site-packages\\tensorflow_core\\python\\training\\training_util.py:236: Variable.initialized_value (from tensorflow.python.ops.variables) is deprecated and will be removed in a future version.\n",
      "Instructions for updating:\n",
      "Use Variable.read_value. Variables in 2.X are initialized automatically both in eager and graph (inside tf.defun) contexts.\n"
     ]
    },
    {
     "name": "stderr",
     "output_type": "stream",
     "text": [
      "WARNING:tensorflow:From C:\\Users\\abhis\\Anaconda3\\lib\\site-packages\\tensorflow_core\\python\\training\\training_util.py:236: Variable.initialized_value (from tensorflow.python.ops.variables) is deprecated and will be removed in a future version.\n",
      "Instructions for updating:\n",
      "Use Variable.read_value. Variables in 2.X are initialized automatically both in eager and graph (inside tf.defun) contexts.\n"
     ]
    },
    {
     "name": "stdout",
     "output_type": "stream",
     "text": [
      "WARNING:tensorflow:From C:\\Users\\abhis\\Anaconda3\\lib\\site-packages\\tensorflow_estimator\\python\\estimator\\inputs\\queues\\feeding_queue_runner.py:62: QueueRunner.__init__ (from tensorflow.python.training.queue_runner_impl) is deprecated and will be removed in a future version.\n",
      "Instructions for updating:\n",
      "To construct input pipelines, use the `tf.data` module.\n"
     ]
    },
    {
     "name": "stderr",
     "output_type": "stream",
     "text": [
      "WARNING:tensorflow:From C:\\Users\\abhis\\Anaconda3\\lib\\site-packages\\tensorflow_estimator\\python\\estimator\\inputs\\queues\\feeding_queue_runner.py:62: QueueRunner.__init__ (from tensorflow.python.training.queue_runner_impl) is deprecated and will be removed in a future version.\n",
      "Instructions for updating:\n",
      "To construct input pipelines, use the `tf.data` module.\n"
     ]
    },
    {
     "name": "stdout",
     "output_type": "stream",
     "text": [
      "WARNING:tensorflow:From C:\\Users\\abhis\\Anaconda3\\lib\\site-packages\\tensorflow_estimator\\python\\estimator\\inputs\\queues\\feeding_functions.py:500: add_queue_runner (from tensorflow.python.training.queue_runner_impl) is deprecated and will be removed in a future version.\n",
      "Instructions for updating:\n",
      "To construct input pipelines, use the `tf.data` module.\n"
     ]
    },
    {
     "name": "stderr",
     "output_type": "stream",
     "text": [
      "WARNING:tensorflow:From C:\\Users\\abhis\\Anaconda3\\lib\\site-packages\\tensorflow_estimator\\python\\estimator\\inputs\\queues\\feeding_functions.py:500: add_queue_runner (from tensorflow.python.training.queue_runner_impl) is deprecated and will be removed in a future version.\n",
      "Instructions for updating:\n",
      "To construct input pipelines, use the `tf.data` module.\n"
     ]
    },
    {
     "name": "stdout",
     "output_type": "stream",
     "text": [
      "INFO:tensorflow:Calling model_fn.\n"
     ]
    },
    {
     "name": "stderr",
     "output_type": "stream",
     "text": [
      "INFO:tensorflow:Calling model_fn.\n"
     ]
    },
    {
     "name": "stdout",
     "output_type": "stream",
     "text": [
      "INFO:tensorflow:Saver not created because there are no variables in the graph to restore\n"
     ]
    },
    {
     "name": "stderr",
     "output_type": "stream",
     "text": [
      "INFO:tensorflow:Saver not created because there are no variables in the graph to restore\n"
     ]
    },
    {
     "name": "stdout",
     "output_type": "stream",
     "text": [
      "WARNING:tensorflow:From C:\\Users\\abhis\\Anaconda3\\lib\\site-packages\\tensorflow_core\\python\\feature_column\\feature_column_v2.py:4276: IndicatorColumn._variable_shape (from tensorflow.python.feature_column.feature_column_v2) is deprecated and will be removed in a future version.\n",
      "Instructions for updating:\n",
      "The old _FeatureColumn APIs are being deprecated. Please use the new FeatureColumn APIs instead.\n"
     ]
    },
    {
     "name": "stderr",
     "output_type": "stream",
     "text": [
      "WARNING:tensorflow:From C:\\Users\\abhis\\Anaconda3\\lib\\site-packages\\tensorflow_core\\python\\feature_column\\feature_column_v2.py:4276: IndicatorColumn._variable_shape (from tensorflow.python.feature_column.feature_column_v2) is deprecated and will be removed in a future version.\n",
      "Instructions for updating:\n",
      "The old _FeatureColumn APIs are being deprecated. Please use the new FeatureColumn APIs instead.\n"
     ]
    },
    {
     "name": "stdout",
     "output_type": "stream",
     "text": [
      "WARNING:tensorflow:From C:\\Users\\abhis\\Anaconda3\\lib\\site-packages\\tensorflow_core\\python\\feature_column\\feature_column_v2.py:4331: VocabularyListCategoricalColumn._num_buckets (from tensorflow.python.feature_column.feature_column_v2) is deprecated and will be removed in a future version.\n",
      "Instructions for updating:\n",
      "The old _FeatureColumn APIs are being deprecated. Please use the new FeatureColumn APIs instead.\n"
     ]
    },
    {
     "name": "stderr",
     "output_type": "stream",
     "text": [
      "WARNING:tensorflow:From C:\\Users\\abhis\\Anaconda3\\lib\\site-packages\\tensorflow_core\\python\\feature_column\\feature_column_v2.py:4331: VocabularyListCategoricalColumn._num_buckets (from tensorflow.python.feature_column.feature_column_v2) is deprecated and will be removed in a future version.\n",
      "Instructions for updating:\n",
      "The old _FeatureColumn APIs are being deprecated. Please use the new FeatureColumn APIs instead.\n"
     ]
    },
    {
     "name": "stdout",
     "output_type": "stream",
     "text": [
      "WARNING:tensorflow:From C:\\Users\\abhis\\Anaconda3\\lib\\site-packages\\tensorflow_estimator\\python\\estimator\\head\\binary_class_head.py:206: to_float (from tensorflow.python.ops.math_ops) is deprecated and will be removed in a future version.\n",
      "Instructions for updating:\n",
      "Use `tf.cast` instead.\n"
     ]
    },
    {
     "name": "stderr",
     "output_type": "stream",
     "text": [
      "WARNING:tensorflow:From C:\\Users\\abhis\\Anaconda3\\lib\\site-packages\\tensorflow_estimator\\python\\estimator\\head\\binary_class_head.py:206: to_float (from tensorflow.python.ops.math_ops) is deprecated and will be removed in a future version.\n",
      "Instructions for updating:\n",
      "Use `tf.cast` instead.\n"
     ]
    },
    {
     "name": "stdout",
     "output_type": "stream",
     "text": [
      "INFO:tensorflow:Done calling model_fn.\n"
     ]
    },
    {
     "name": "stderr",
     "output_type": "stream",
     "text": [
      "INFO:tensorflow:Done calling model_fn.\n"
     ]
    },
    {
     "name": "stdout",
     "output_type": "stream",
     "text": [
      "INFO:tensorflow:Create CheckpointSaverHook.\n"
     ]
    },
    {
     "name": "stderr",
     "output_type": "stream",
     "text": [
      "INFO:tensorflow:Create CheckpointSaverHook.\n"
     ]
    },
    {
     "name": "stdout",
     "output_type": "stream",
     "text": [
      "INFO:tensorflow:Graph was finalized.\n"
     ]
    },
    {
     "name": "stderr",
     "output_type": "stream",
     "text": [
      "INFO:tensorflow:Graph was finalized.\n"
     ]
    },
    {
     "name": "stdout",
     "output_type": "stream",
     "text": [
      "INFO:tensorflow:Restoring parameters from ./output1\\model.ckpt-800\n"
     ]
    },
    {
     "name": "stderr",
     "output_type": "stream",
     "text": [
      "INFO:tensorflow:Restoring parameters from ./output1\\model.ckpt-800\n"
     ]
    },
    {
     "name": "stdout",
     "output_type": "stream",
     "text": [
      "WARNING:tensorflow:From C:\\Users\\abhis\\Anaconda3\\lib\\site-packages\\tensorflow_core\\python\\training\\saver.py:1069: get_checkpoint_mtimes (from tensorflow.python.training.checkpoint_management) is deprecated and will be removed in a future version.\n",
      "Instructions for updating:\n",
      "Use standard file utilities to get mtimes.\n"
     ]
    },
    {
     "name": "stderr",
     "output_type": "stream",
     "text": [
      "WARNING:tensorflow:From C:\\Users\\abhis\\Anaconda3\\lib\\site-packages\\tensorflow_core\\python\\training\\saver.py:1069: get_checkpoint_mtimes (from tensorflow.python.training.checkpoint_management) is deprecated and will be removed in a future version.\n",
      "Instructions for updating:\n",
      "Use standard file utilities to get mtimes.\n"
     ]
    },
    {
     "name": "stdout",
     "output_type": "stream",
     "text": [
      "INFO:tensorflow:Running local_init_op.\n"
     ]
    },
    {
     "name": "stderr",
     "output_type": "stream",
     "text": [
      "INFO:tensorflow:Running local_init_op.\n"
     ]
    },
    {
     "name": "stdout",
     "output_type": "stream",
     "text": [
      "INFO:tensorflow:Done running local_init_op.\n"
     ]
    },
    {
     "name": "stderr",
     "output_type": "stream",
     "text": [
      "INFO:tensorflow:Done running local_init_op.\n"
     ]
    },
    {
     "name": "stdout",
     "output_type": "stream",
     "text": [
      "WARNING:tensorflow:From C:\\Users\\abhis\\Anaconda3\\lib\\site-packages\\tensorflow_core\\python\\training\\monitored_session.py:882: start_queue_runners (from tensorflow.python.training.queue_runner_impl) is deprecated and will be removed in a future version.\n",
      "Instructions for updating:\n",
      "To construct input pipelines, use the `tf.data` module.\n"
     ]
    },
    {
     "name": "stderr",
     "output_type": "stream",
     "text": [
      "WARNING:tensorflow:From C:\\Users\\abhis\\Anaconda3\\lib\\site-packages\\tensorflow_core\\python\\training\\monitored_session.py:882: start_queue_runners (from tensorflow.python.training.queue_runner_impl) is deprecated and will be removed in a future version.\n",
      "Instructions for updating:\n",
      "To construct input pipelines, use the `tf.data` module.\n"
     ]
    },
    {
     "name": "stdout",
     "output_type": "stream",
     "text": [
      "INFO:tensorflow:Saving checkpoints for 800 into ./output1\\model.ckpt.\n"
     ]
    },
    {
     "name": "stderr",
     "output_type": "stream",
     "text": [
      "INFO:tensorflow:Saving checkpoints for 800 into ./output1\\model.ckpt.\n"
     ]
    },
    {
     "name": "stdout",
     "output_type": "stream",
     "text": [
      "INFO:tensorflow:loss = 0.22440484, step = 800\n"
     ]
    },
    {
     "name": "stderr",
     "output_type": "stream",
     "text": [
      "INFO:tensorflow:loss = 0.22440484, step = 800\n"
     ]
    },
    {
     "name": "stdout",
     "output_type": "stream",
     "text": [
      "INFO:tensorflow:global_step/sec: 78.417\n"
     ]
    },
    {
     "name": "stderr",
     "output_type": "stream",
     "text": [
      "INFO:tensorflow:global_step/sec: 78.417\n"
     ]
    },
    {
     "name": "stdout",
     "output_type": "stream",
     "text": [
      "INFO:tensorflow:loss = 0.24366504, step = 900 (1.280 sec)\n"
     ]
    },
    {
     "name": "stderr",
     "output_type": "stream",
     "text": [
      "INFO:tensorflow:loss = 0.24366504, step = 900 (1.280 sec)\n"
     ]
    },
    {
     "name": "stdout",
     "output_type": "stream",
     "text": [
      "INFO:tensorflow:global_step/sec: 66.9346\n"
     ]
    },
    {
     "name": "stderr",
     "output_type": "stream",
     "text": [
      "INFO:tensorflow:global_step/sec: 66.9346\n"
     ]
    },
    {
     "name": "stdout",
     "output_type": "stream",
     "text": [
      "INFO:tensorflow:loss = 0.24436885, step = 1000 (1.496 sec)\n"
     ]
    },
    {
     "name": "stderr",
     "output_type": "stream",
     "text": [
      "INFO:tensorflow:loss = 0.24436885, step = 1000 (1.496 sec)\n"
     ]
    },
    {
     "name": "stdout",
     "output_type": "stream",
     "text": [
      "INFO:tensorflow:Saving checkpoints for 1080 into ./output1\\model.ckpt.\n"
     ]
    },
    {
     "name": "stderr",
     "output_type": "stream",
     "text": [
      "INFO:tensorflow:Saving checkpoints for 1080 into ./output1\\model.ckpt.\n"
     ]
    },
    {
     "name": "stdout",
     "output_type": "stream",
     "text": [
      "INFO:tensorflow:Loss for final step: 0.25517416.\n"
     ]
    },
    {
     "name": "stderr",
     "output_type": "stream",
     "text": [
      "INFO:tensorflow:Loss for final step: 0.25517416.\n"
     ]
    },
    {
     "data": {
      "text/plain": [
       "<tensorflow_estimator.python.estimator.canned.dnn.DNNClassifierV2 at 0x20f989ebb48>"
      ]
     },
     "execution_count": 25,
     "metadata": {},
     "output_type": "execute_result"
    }
   ],
   "source": [
    "estimator.train(input_fn=train_input_fn, steps=1e5)"
   ]
  },
  {
   "cell_type": "code",
   "execution_count": 26,
   "metadata": {},
   "outputs": [
    {
     "name": "stdout",
     "output_type": "stream",
     "text": [
      "INFO:tensorflow:Calling model_fn.\n"
     ]
    },
    {
     "name": "stderr",
     "output_type": "stream",
     "text": [
      "INFO:tensorflow:Calling model_fn.\n"
     ]
    },
    {
     "name": "stdout",
     "output_type": "stream",
     "text": [
      "INFO:tensorflow:Saver not created because there are no variables in the graph to restore\n"
     ]
    },
    {
     "name": "stderr",
     "output_type": "stream",
     "text": [
      "INFO:tensorflow:Saver not created because there are no variables in the graph to restore\n"
     ]
    },
    {
     "name": "stdout",
     "output_type": "stream",
     "text": [
      "INFO:tensorflow:Done calling model_fn.\n"
     ]
    },
    {
     "name": "stderr",
     "output_type": "stream",
     "text": [
      "INFO:tensorflow:Done calling model_fn.\n"
     ]
    },
    {
     "name": "stdout",
     "output_type": "stream",
     "text": [
      "INFO:tensorflow:Starting evaluation at 2020-01-09T17:29:44Z\n"
     ]
    },
    {
     "name": "stderr",
     "output_type": "stream",
     "text": [
      "INFO:tensorflow:Starting evaluation at 2020-01-09T17:29:44Z\n"
     ]
    },
    {
     "name": "stdout",
     "output_type": "stream",
     "text": [
      "INFO:tensorflow:Graph was finalized.\n"
     ]
    },
    {
     "name": "stderr",
     "output_type": "stream",
     "text": [
      "INFO:tensorflow:Graph was finalized.\n"
     ]
    },
    {
     "name": "stdout",
     "output_type": "stream",
     "text": [
      "INFO:tensorflow:Restoring parameters from ./output1\\model.ckpt-1080\n"
     ]
    },
    {
     "name": "stderr",
     "output_type": "stream",
     "text": [
      "INFO:tensorflow:Restoring parameters from ./output1\\model.ckpt-1080\n"
     ]
    },
    {
     "name": "stdout",
     "output_type": "stream",
     "text": [
      "INFO:tensorflow:Running local_init_op.\n"
     ]
    },
    {
     "name": "stderr",
     "output_type": "stream",
     "text": [
      "INFO:tensorflow:Running local_init_op.\n"
     ]
    },
    {
     "name": "stdout",
     "output_type": "stream",
     "text": [
      "INFO:tensorflow:Done running local_init_op.\n"
     ]
    },
    {
     "name": "stderr",
     "output_type": "stream",
     "text": [
      "INFO:tensorflow:Done running local_init_op.\n"
     ]
    },
    {
     "name": "stdout",
     "output_type": "stream",
     "text": [
      "INFO:tensorflow:Finished evaluation at 2020-01-09-17:29:53\n"
     ]
    },
    {
     "name": "stderr",
     "output_type": "stream",
     "text": [
      "INFO:tensorflow:Finished evaluation at 2020-01-09-17:29:53\n"
     ]
    },
    {
     "name": "stdout",
     "output_type": "stream",
     "text": [
      "INFO:tensorflow:Saving dict for global step 1080: accuracy = 0.91525424, accuracy_baseline = 0.88135594, auc = 0.873663, auc_precision_recall = 0.63125736, average_loss = 0.23841691, global_step = 1080, label/mean = 0.118644066, loss = 0.23841691, precision = 0.6666667, prediction/mean = 0.138258, recall = 0.5714286\n"
     ]
    },
    {
     "name": "stderr",
     "output_type": "stream",
     "text": [
      "INFO:tensorflow:Saving dict for global step 1080: accuracy = 0.91525424, accuracy_baseline = 0.88135594, auc = 0.873663, auc_precision_recall = 0.63125736, average_loss = 0.23841691, global_step = 1080, label/mean = 0.118644066, loss = 0.23841691, precision = 0.6666667, prediction/mean = 0.138258, recall = 0.5714286\n"
     ]
    },
    {
     "name": "stdout",
     "output_type": "stream",
     "text": [
      "INFO:tensorflow:Saving 'checkpoint_path' summary for global step 1080: ./output1\\model.ckpt-1080\n"
     ]
    },
    {
     "name": "stderr",
     "output_type": "stream",
     "text": [
      "INFO:tensorflow:Saving 'checkpoint_path' summary for global step 1080: ./output1\\model.ckpt-1080\n"
     ]
    }
   ],
   "source": [
    "#Evaluating on test data\n",
    "report = estimator.evaluate(test_input_fn)"
   ]
  },
  {
   "cell_type": "code",
   "execution_count": 27,
   "metadata": {},
   "outputs": [
    {
     "data": {
      "text/plain": [
       "{'accuracy': 0.91525424,\n",
       " 'accuracy_baseline': 0.88135594,\n",
       " 'auc': 0.873663,\n",
       " 'auc_precision_recall': 0.63125736,\n",
       " 'average_loss': 0.23841691,\n",
       " 'label/mean': 0.118644066,\n",
       " 'loss': 0.23841691,\n",
       " 'precision': 0.6666667,\n",
       " 'prediction/mean': 0.138258,\n",
       " 'recall': 0.5714286,\n",
       " 'global_step': 1080}"
      ]
     },
     "execution_count": 27,
     "metadata": {},
     "output_type": "execute_result"
    }
   ],
   "source": [
    "#performance of hybrid model on test\n",
    "report"
   ]
  },
  {
   "cell_type": "markdown",
   "metadata": {},
   "source": [
    "From our analysis we conclude that the hybrid model with other features with emails outperforms others. We have successfully built a POI identifier which classifies POI emails. Such classifiers can be used to identify fraudulent activities saving coorporations thousands of dollars. "
   ]
  },
  {
   "cell_type": "markdown",
   "metadata": {},
   "source": [
    "The web-app developed for the project can be found [here](https://poi-identifier.herokuapp.com/)\n",
    "The app is divided into two sections, one for descriptive statistics to get a preview of the data and the second one for predictions which takes user input and classifies it as POI/non-POI. "
   ]
  }
 ],
 "metadata": {
  "kernelspec": {
   "display_name": "Python 3",
   "language": "python",
   "name": "python3"
  },
  "language_info": {
   "codemirror_mode": {
    "name": "ipython",
    "version": 3
   },
   "file_extension": ".py",
   "mimetype": "text/x-python",
   "name": "python",
   "nbconvert_exporter": "python",
   "pygments_lexer": "ipython3",
   "version": "3.7.4"
  }
 },
 "nbformat": 4,
 "nbformat_minor": 2
}
